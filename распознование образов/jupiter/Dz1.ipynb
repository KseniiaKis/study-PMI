{
 "cells": [
  {
   "cell_type": "code",
   "execution_count": 1,
   "id": "56665882-59f3-4daa-b2a6-50563ad83f72",
   "metadata": {},
   "outputs": [],
   "source": [
    "import torch\n",
    "import matplotlib.pyplot as plt\n",
    "from scipy.stats import cauchy\n",
    "from torchvision import datasets, transforms"
   ]
  },
  {
   "cell_type": "code",
   "execution_count": 2,
   "id": "1ddfea99-2492-4b1e-bce9-73b277649ee0",
   "metadata": {},
   "outputs": [
    {
     "name": "stdout",
     "output_type": "stream",
     "text": [
      "tensor([[0., 0., 0., 0., 0.],\n",
      "        [0., 0., 0., 0., 0.],\n",
      "        [0., 0., 0., 0., 0.],\n",
      "        [0., 0., 0., 0., 0.],\n",
      "        [0., 0., 0., 0., 0.]])\n"
     ]
    }
   ],
   "source": [
    "x = torch.zeros(5, 5)\n",
    "print(x)"
   ]
  },
  {
   "cell_type": "code",
   "execution_count": 5,
   "id": "06c3a794-29c8-446a-866b-9c49eb84522b",
   "metadata": {},
   "outputs": [
    {
     "name": "stdout",
     "output_type": "stream",
     "text": [
      "a =  tensor([[0.4095, 0.1960, 0.1759, 0.8313, 0.4181],\n",
      "        [0.7807, 0.6529, 0.8776, 0.1709, 0.6235],\n",
      "        [0.4509, 0.4388, 0.8202, 0.5510, 0.7764],\n",
      "        [0.4112, 0.1513, 0.4711, 0.4671, 0.7539],\n",
      "        [0.5770, 0.3709, 0.0220, 0.7685, 0.8463]])\n",
      "b =  tensor([[0.5002, 0.8491, 0.9428, 0.3666, 0.5201],\n",
      "        [0.1339, 0.6892, 0.1222, 0.1403, 0.4563],\n",
      "        [0.9203, 0.6271, 0.7122, 0.3279, 0.0892],\n",
      "        [0.2701, 0.8445, 0.3459, 0.1183, 0.0698],\n",
      "        [0.3941, 0.6168, 0.4817, 0.2765, 0.6023]])\n",
      "a + b =  tensor([[0.9096, 1.0451, 1.1187, 1.1979, 0.9383],\n",
      "        [0.9146, 1.3421, 0.9998, 0.3113, 1.0798],\n",
      "        [1.3713, 1.0659, 1.5325, 0.8789, 0.8656],\n",
      "        [0.6814, 0.9957, 0.8170, 0.5854, 0.8237],\n",
      "        [0.9711, 0.9877, 0.5037, 1.0450, 1.4485]])\n"
     ]
    }
   ],
   "source": [
    "a = torch.rand(5, 5)\n",
    "b = torch.rand(5, 5)\n",
    "\n",
    "print(\"a = \", a)\n",
    "print(\"b = \", b)\n",
    "\n",
    "c = a + b\n",
    "\n",
    "print(\"a + b = \", c)"
   ]
  },
  {
   "cell_type": "code",
   "execution_count": 6,
   "id": "2a3618f5-5399-48b0-9589-976a808f5134",
   "metadata": {},
   "outputs": [
    {
     "name": "stdout",
     "output_type": "stream",
     "text": [
      "3-я строка:  tensor([1.3713, 1.0659, 1.5325, 0.8789, 0.8656])\n"
     ]
    }
   ],
   "source": [
    "print(\"3-я строка: \", c[2,:])"
   ]
  },
  {
   "cell_type": "code",
   "execution_count": 7,
   "id": "a25b5e6b-e2f8-42d4-b16d-bc54fc6afb58",
   "metadata": {},
   "outputs": [
    {
     "name": "stdout",
     "output_type": "stream",
     "text": [
      "Размерность c:  torch.Size([5, 5])\n"
     ]
    }
   ],
   "source": [
    "print(\"Размерность c: \", c.shape)"
   ]
  },
  {
   "cell_type": "code",
   "execution_count": 9,
   "id": "dd1eb689-5227-46db-b2ef-df764b407451",
   "metadata": {},
   "outputs": [
    {
     "name": "stdout",
     "output_type": "stream",
     "text": [
      "Изменение размерности на 25х1:  tensor([[0.9096],\n",
      "        [1.0451],\n",
      "        [1.1187],\n",
      "        [1.1979],\n",
      "        [0.9383],\n",
      "        [0.9146],\n",
      "        [1.3421],\n",
      "        [0.9998],\n",
      "        [0.3113],\n",
      "        [1.0798],\n",
      "        [1.3713],\n",
      "        [1.0659],\n",
      "        [1.5325],\n",
      "        [0.8789],\n",
      "        [0.8656],\n",
      "        [0.6814],\n",
      "        [0.9957],\n",
      "        [0.8170],\n",
      "        [0.5854],\n",
      "        [0.8237],\n",
      "        [0.9711],\n",
      "        [0.9877],\n",
      "        [0.5037],\n",
      "        [1.0450],\n",
      "        [1.4485]])\n"
     ]
    }
   ],
   "source": [
    "print(\"Изменение размерности на 25х1: \", torch.reshape(c, (25,1)))"
   ]
  },
  {
   "cell_type": "code",
   "execution_count": 10,
   "id": "8f3998d4-bf25-4e47-88c4-0178a54627b3",
   "metadata": {},
   "outputs": [],
   "source": [
    "NN = 50\n",
    "gamma = 0.15\n",
    "omega0 = 0\n",
    "\n",
    "x_data = torch.Tensor(1,NN)\n",
    "y_data = torch.Tensor(1,NN)\n",
    "\n",
    "k = 5\n",
    "b = 2\n",
    "N = cauchy.rvs(omega0, gamma, size=NN)\n",
    "\n",
    "for i in range(NN):\n",
    "    x_data[0,i] = i*0.01\n",
    "    y_data[0,i] = k*x_data[0,i] + b + N[i]"
   ]
  },
  {
   "cell_type": "code",
   "execution_count": 11,
   "id": "e67894ff-2158-4436-9939-c7caa63dd0d6",
   "metadata": {},
   "outputs": [],
   "source": [
    "def estimate_coef(x_data, y_data):\n",
    "  n = x_data.size(dim=1)\n",
    "\n",
    "  m_x = torch.mean(x_data)\n",
    "  m_y = torch.mean(y_data)\n",
    "\n",
    "  SS_xy = torch.sum(y_data*x_data) - n*m_y*m_x\n",
    "  SS_xx = torch.sum(x_data*x_data) - n*m_x*m_x\n",
    "\n",
    "  k = SS_xy / SS_xx\n",
    "  b = m_y - k*m_x\n",
    "  kk = k.item()\n",
    "  bb = b.item()\n",
    "\n",
    "  return kk, bb"
   ]
  },
  {
   "cell_type": "code",
   "execution_count": 12,
   "id": "653768ca-bf94-43bb-b3a1-ac4f0158dda3",
   "metadata": {},
   "outputs": [],
   "source": [
    "y_dataNew = torch.Tensor(1,NN)\n",
    "\n",
    "kNew, bNew = estimate_coef(x_data, y_data)\n",
    "\n",
    "for i in range(NN):\n",
    "    y_dataNew[0,i] = kNew*x_data[0,i] + bNew"
   ]
  },
  {
   "cell_type": "code",
   "execution_count": 13,
   "id": "766edd6a-90c7-46df-b61f-34ad828685ba",
   "metadata": {},
   "outputs": [
    {
     "data": {
      "image/png": "[encoded data removed]",
      "text/plain": [
       "<Figure size 640x480 with 1 Axes>"
      ]
     },
     "metadata": {},
     "output_type": "display_data"
    }
   ],
   "source": [
    "plt.plot(x_data[0,:], y_data[0,:],\".\")\n",
    "plt.plot(x_data[0,:], y_dataNew[0,:],\"g\")\n",
    "plt.show()"
   ]
  },
  {
   "cell_type": "code",
   "execution_count": 14,
   "id": "c46b3266-1d03-4ebd-a890-91338a80b443",
   "metadata": {},
   "outputs": [
    {
     "name": "stdout",
     "output_type": "stream",
     "text": [
      "Downloading http://yann.lecun.com/exdb/mnist/train-images-idx3-ubyte.gz\n",
      "Failed to download (trying next):\n",
      "HTTP Error 403: Forbidden\n",
      "\n",
      "Downloading https://ossci-datasets.s3.amazonaws.com/mnist/train-images-idx3-ubyte.gz\n",
      "Downloading https://ossci-datasets.s3.amazonaws.com/mnist/train-images-idx3-ubyte.gz to ./data\\MNIST\\raw\\train-images-idx3-ubyte.gz\n"
     ]
    },
    {
     "name": "stderr",
     "output_type": "stream",
     "text": [
      "100%|██████████| 9912422/9912422 [00:10<00:00, 945182.95it/s] \n"
     ]
    },
    {
     "name": "stdout",
     "output_type": "stream",
     "text": [
      "Extracting ./data\\MNIST\\raw\\train-images-idx3-ubyte.gz to ./data\\MNIST\\raw\n",
      "\n",
      "Downloading http://yann.lecun.com/exdb/mnist/train-labels-idx1-ubyte.gz\n",
      "Failed to download (trying next):\n",
      "HTTP Error 403: Forbidden\n",
      "\n",
      "Downloading https://ossci-datasets.s3.amazonaws.com/mnist/train-labels-idx1-ubyte.gz\n",
      "Downloading https://ossci-datasets.s3.amazonaws.com/mnist/train-labels-idx1-ubyte.gz to ./data\\MNIST\\raw\\train-labels-idx1-ubyte.gz\n"
     ]
    },
    {
     "name": "stderr",
     "output_type": "stream",
     "text": [
      "100%|██████████| 28881/28881 [00:00<00:00, 227176.42it/s]\n"
     ]
    },
    {
     "name": "stdout",
     "output_type": "stream",
     "text": [
      "Extracting ./data\\MNIST\\raw\\train-labels-idx1-ubyte.gz to ./data\\MNIST\\raw\n",
      "\n",
      "Downloading http://yann.lecun.com/exdb/mnist/t10k-images-idx3-ubyte.gz\n",
      "Failed to download (trying next):\n",
      "HTTP Error 403: Forbidden\n",
      "\n",
      "Downloading https://ossci-datasets.s3.amazonaws.com/mnist/t10k-images-idx3-ubyte.gz\n",
      "Downloading https://ossci-datasets.s3.amazonaws.com/mnist/t10k-images-idx3-ubyte.gz to ./data\\MNIST\\raw\\t10k-images-idx3-ubyte.gz\n"
     ]
    },
    {
     "name": "stderr",
     "output_type": "stream",
     "text": [
      "100%|██████████| 1648877/1648877 [00:02<00:00, 640538.06it/s]\n"
     ]
    },
    {
     "name": "stdout",
     "output_type": "stream",
     "text": [
      "Extracting ./data\\MNIST\\raw\\t10k-images-idx3-ubyte.gz to ./data\\MNIST\\raw\n",
      "\n",
      "Downloading http://yann.lecun.com/exdb/mnist/t10k-labels-idx1-ubyte.gz\n",
      "Failed to download (trying next):\n",
      "HTTP Error 403: Forbidden\n",
      "\n",
      "Downloading https://ossci-datasets.s3.amazonaws.com/mnist/t10k-labels-idx1-ubyte.gz\n",
      "Downloading https://ossci-datasets.s3.amazonaws.com/mnist/t10k-labels-idx1-ubyte.gz to ./data\\MNIST\\raw\\t10k-labels-idx1-ubyte.gz\n"
     ]
    },
    {
     "name": "stderr",
     "output_type": "stream",
     "text": [
      "100%|██████████| 4542/4542 [00:00<?, ?it/s]\n"
     ]
    },
    {
     "name": "stdout",
     "output_type": "stream",
     "text": [
      "Extracting ./data\\MNIST\\raw\\t10k-labels-idx1-ubyte.gz to ./data\\MNIST\\raw\n",
      "\n"
     ]
    },
    {
     "data": {
      "image/png": "[encoded data removed]",
      "text/plain": [
       "<Figure size 1500x300 with 10 Axes>"
      ]
     },
     "metadata": {},
     "output_type": "display_data"
    }
   ],
   "source": [
    "transform = transforms.Compose([transforms.ToTensor()])\n",
    "\n",
    "mnist_pytorch = datasets.MNIST(root='./data', train=True, download=True, transform=transform)\n",
    "\n",
    "train_loader_pytorch = torch.utils.data.DataLoader(mnist_pytorch, batch_size=1, shuffle=False)\n",
    "\n",
    "plt.figure(figsize=(15, 3))\n",
    "\n",
    "for i, (image, label) in enumerate(train_loader_pytorch):\n",
    "    if i < 10:\n",
    "        plt.subplot(1, 10, i + 1)\n",
    "        plt.imshow(image[0].squeeze(), cmap='gray')\n",
    "        plt.title(f\"Label: {label.item()}\")\n",
    "        plt.axis('off')\n",
    "    else:\n",
    "        break\n",
    "\n",
    "plt.tight_layout()\n",
    "plt.show()"
   ]
  },
  {
   "cell_type": "code",
   "execution_count": 17,
   "id": "d8af3d70-786a-4f20-8f7a-d17d3dea7a33",
   "metadata": {},
   "outputs": [
    {
     "data": {
      "text/plain": [
       "False"
      ]
     },
     "execution_count": 17,
     "metadata": {},
     "output_type": "execute_result"
    }
   ],
   "source": [
    "torch.cuda.is_available()"
   ]
  },
  {
   "cell_type": "code",
   "execution_count": 18,
   "id": "da8909f9-84ae-46c7-8cb8-6d400777db5d",
   "metadata": {},
   "outputs": [],
   "source": [
    "device = torch.device(\"cuda\" if torch.cuda.is_available() else \"cpu\")"
   ]
  }
 ],
 "metadata": {
  "kernelspec": {
   "display_name": "Python 3 (ipykernel)",
   "language": "python",
   "name": "python3"
  },
  "language_info": {
   "codemirror_mode": {
    "name": "ipython",
    "version": 3
   },
   "file_extension": ".py",
   "mimetype": "text/x-python",
   "name": "python",
   "nbconvert_exporter": "python",
   "pygments_lexer": "ipython3",
   "version": "3.12.4"
  }
 },
 "nbformat": 4,
 "nbformat_minor": 5
}
