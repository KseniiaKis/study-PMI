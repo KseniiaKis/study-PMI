{
  "cells": [
    {
      "cell_type": "code",
      "execution_count": 1,
      "metadata": {
        "colab": {
          "base_uri": "https://localhost:8080/"
        },
        "id": "WqzS1my3ti3U",
        "outputId": "f3a38afa-d8dd-42ee-9b3f-8646da798806"
      },
      "outputs": [
        {
          "output_type": "stream",
          "name": "stdout",
          "text": [
            "Collecting torchmetrics\n",
            "  Downloading torchmetrics-1.6.0-py3-none-any.whl.metadata (20 kB)\n",
            "Requirement already satisfied: numpy>1.20.0 in /usr/local/lib/python3.10/dist-packages (from torchmetrics) (1.26.4)\n",
            "Requirement already satisfied: packaging>17.1 in /usr/local/lib/python3.10/dist-packages (from torchmetrics) (24.2)\n",
            "Requirement already satisfied: torch>=2.0.0 in /usr/local/lib/python3.10/dist-packages (from torchmetrics) (2.5.1+cu121)\n",
            "Collecting lightning-utilities>=0.8.0 (from torchmetrics)\n",
            "  Downloading lightning_utilities-0.11.8-py3-none-any.whl.metadata (5.2 kB)\n",
            "Requirement already satisfied: setuptools in /usr/local/lib/python3.10/dist-packages (from lightning-utilities>=0.8.0->torchmetrics) (75.1.0)\n",
            "Requirement already satisfied: typing-extensions in /usr/local/lib/python3.10/dist-packages (from lightning-utilities>=0.8.0->torchmetrics) (4.12.2)\n",
            "Requirement already satisfied: filelock in /usr/local/lib/python3.10/dist-packages (from torch>=2.0.0->torchmetrics) (3.16.1)\n",
            "Requirement already satisfied: networkx in /usr/local/lib/python3.10/dist-packages (from torch>=2.0.0->torchmetrics) (3.4.2)\n",
            "Requirement already satisfied: jinja2 in /usr/local/lib/python3.10/dist-packages (from torch>=2.0.0->torchmetrics) (3.1.4)\n",
            "Requirement already satisfied: fsspec in /usr/local/lib/python3.10/dist-packages (from torch>=2.0.0->torchmetrics) (2024.10.0)\n",
            "Requirement already satisfied: sympy==1.13.1 in /usr/local/lib/python3.10/dist-packages (from torch>=2.0.0->torchmetrics) (1.13.1)\n",
            "Requirement already satisfied: mpmath<1.4,>=1.1.0 in /usr/local/lib/python3.10/dist-packages (from sympy==1.13.1->torch>=2.0.0->torchmetrics) (1.3.0)\n",
            "Requirement already satisfied: MarkupSafe>=2.0 in /usr/local/lib/python3.10/dist-packages (from jinja2->torch>=2.0.0->torchmetrics) (3.0.2)\n",
            "Downloading torchmetrics-1.6.0-py3-none-any.whl (926 kB)\n",
            "\u001b[2K   \u001b[90m━━━━━━━━━━━━━━━━━━━━━━━━━━━━━━━━━━━━━━━━\u001b[0m \u001b[32m926.4/926.4 kB\u001b[0m \u001b[31m36.5 MB/s\u001b[0m eta \u001b[36m0:00:00\u001b[0m\n",
            "\u001b[?25hDownloading lightning_utilities-0.11.8-py3-none-any.whl (26 kB)\n",
            "Installing collected packages: lightning-utilities, torchmetrics\n",
            "Successfully installed lightning-utilities-0.11.8 torchmetrics-1.6.0\n"
          ]
        }
      ],
      "source": [
        "pip install --upgrade torchmetrics"
      ]
    },
    {
      "cell_type": "code",
      "execution_count": 2,
      "metadata": {
        "colab": {
          "base_uri": "https://localhost:8080/"
        },
        "id": "YopuHVcnH7-W",
        "outputId": "b68b7836-5d94-4cb1-94b0-d1a17fceb07f"
      },
      "outputs": [
        {
          "output_type": "stream",
          "name": "stdout",
          "text": [
            "Collecting optuna\n",
            "  Downloading optuna-4.1.0-py3-none-any.whl.metadata (16 kB)\n",
            "Collecting alembic>=1.5.0 (from optuna)\n",
            "  Downloading alembic-1.14.0-py3-none-any.whl.metadata (7.4 kB)\n",
            "Collecting colorlog (from optuna)\n",
            "  Downloading colorlog-6.9.0-py3-none-any.whl.metadata (10 kB)\n",
            "Requirement already satisfied: numpy in /usr/local/lib/python3.10/dist-packages (from optuna) (1.26.4)\n",
            "Requirement already satisfied: packaging>=20.0 in /usr/local/lib/python3.10/dist-packages (from optuna) (24.2)\n",
            "Requirement already satisfied: sqlalchemy>=1.4.2 in /usr/local/lib/python3.10/dist-packages (from optuna) (2.0.36)\n",
            "Requirement already satisfied: tqdm in /usr/local/lib/python3.10/dist-packages (from optuna) (4.66.6)\n",
            "Requirement already satisfied: PyYAML in /usr/local/lib/python3.10/dist-packages (from optuna) (6.0.2)\n",
            "Collecting Mako (from alembic>=1.5.0->optuna)\n",
            "  Downloading Mako-1.3.6-py3-none-any.whl.metadata (2.9 kB)\n",
            "Requirement already satisfied: typing-extensions>=4 in /usr/local/lib/python3.10/dist-packages (from alembic>=1.5.0->optuna) (4.12.2)\n",
            "Requirement already satisfied: greenlet!=0.4.17 in /usr/local/lib/python3.10/dist-packages (from sqlalchemy>=1.4.2->optuna) (3.1.1)\n",
            "Requirement already satisfied: MarkupSafe>=0.9.2 in /usr/local/lib/python3.10/dist-packages (from Mako->alembic>=1.5.0->optuna) (3.0.2)\n",
            "Downloading optuna-4.1.0-py3-none-any.whl (364 kB)\n",
            "\u001b[2K   \u001b[90m━━━━━━━━━━━━━━━━━━━━━━━━━━━━━━━━━━━━━━━━\u001b[0m \u001b[32m364.4/364.4 kB\u001b[0m \u001b[31m15.2 MB/s\u001b[0m eta \u001b[36m0:00:00\u001b[0m\n",
            "\u001b[?25hDownloading alembic-1.14.0-py3-none-any.whl (233 kB)\n",
            "\u001b[2K   \u001b[90m━━━━━━━━━━━━━━━━━━━━━━━━━━━━━━━━━━━━━━━━\u001b[0m \u001b[32m233.5/233.5 kB\u001b[0m \u001b[31m10.5 MB/s\u001b[0m eta \u001b[36m0:00:00\u001b[0m\n",
            "\u001b[?25hDownloading colorlog-6.9.0-py3-none-any.whl (11 kB)\n",
            "Downloading Mako-1.3.6-py3-none-any.whl (78 kB)\n",
            "\u001b[2K   \u001b[90m━━━━━━━━━━━━━━━━━━━━━━━━━━━━━━━━━━━━━━━━\u001b[0m \u001b[32m78.6/78.6 kB\u001b[0m \u001b[31m7.1 MB/s\u001b[0m eta \u001b[36m0:00:00\u001b[0m\n",
            "\u001b[?25hInstalling collected packages: Mako, colorlog, alembic, optuna\n",
            "Successfully installed Mako-1.3.6 alembic-1.14.0 colorlog-6.9.0 optuna-4.1.0\n"
          ]
        }
      ],
      "source": [
        "pip install optuna"
      ]
    },
    {
      "cell_type": "code",
      "execution_count": 18,
      "metadata": {
        "id": "gqpFV-dgti3V"
      },
      "outputs": [],
      "source": [
        "import torch\n",
        "import torchmetrics\n",
        "import torch.nn as nn\n",
        "import torch.optim as optim\n",
        "from torchvision import datasets, transforms\n",
        "from torch.utils.data import DataLoader\n",
        "from torchmetrics import F1Score, Accuracy\n",
        "import optuna\n",
        "import matplotlib.pyplot as plt"
      ]
    },
    {
      "cell_type": "code",
      "execution_count": 19,
      "metadata": {
        "id": "3PhqSpZ3ti3W"
      },
      "outputs": [],
      "source": [
        "# Устройство: GPU или CPU\n",
        "device = torch.device(\"cuda\" if torch.cuda.is_available() else \"cpu\")"
      ]
    },
    {
      "cell_type": "code",
      "execution_count": 20,
      "metadata": {
        "colab": {
          "base_uri": "https://localhost:8080/"
        },
        "id": "KgrLr1DRti3W",
        "outputId": "42272f2f-232f-400c-e674-a3b39be40421"
      },
      "outputs": [
        {
          "output_type": "execute_result",
          "data": {
            "text/plain": [
              "device(type='cuda')"
            ]
          },
          "metadata": {},
          "execution_count": 20
        }
      ],
      "source": [
        "device"
      ]
    },
    {
      "cell_type": "code",
      "execution_count": 21,
      "metadata": {
        "id": "ymHHx1G7ti3X"
      },
      "outputs": [],
      "source": [
        "# Определение модели CNN\n",
        "class CNN(nn.Module):\n",
        "    def __init__(self, num_filters, hidden_units):\n",
        "        super(CNN, self).__init__()\n",
        "\n",
        "        self.conv1 = nn.Conv2d(in_channels=1, out_channels=num_filters, kernel_size=3, stride=1, padding=1)\n",
        "        self.conv2 = nn.Conv2d(in_channels=num_filters, out_channels=num_filters * 2, kernel_size=3, stride=1, padding=1)\n",
        "        self.pool = nn.MaxPool2d(kernel_size=2, stride=2)\n",
        "        self.fc1 = nn.Linear(num_filters * 2 * 7 * 7, hidden_units)\n",
        "        self.fc2 = nn.Linear(hidden_units, 10)\n",
        "\n",
        "    def forward(self, x):\n",
        "        x = self.pool(nn.ReLU()(self.conv1(x)))\n",
        "        x = self.pool(nn.ReLU()(self.conv2(x)))\n",
        "        x = x.view(-1, self.num_flat_features(x))\n",
        "        x = nn.ReLU()(self.fc1(x))\n",
        "        x = self.fc2(x)\n",
        "        return x\n",
        "\n",
        "    def num_flat_features(self, x):\n",
        "        size = x.size()[1:]  # все размеры, кроме размера батча\n",
        "        num_features = 1\n",
        "        for s in size:\n",
        "            num_features *= s\n",
        "        return num_features"
      ]
    },
    {
      "cell_type": "code",
      "source": [
        "# Подготовка данных MNIST\n",
        "transform = transforms.Compose([\n",
        "    transforms.ToTensor(),\n",
        "    transforms.Normalize((0.1307,), (0.3081,))\n",
        "])\n",
        "\n",
        "train_dataset = datasets.MNIST(root='./data', train=True, download=True, transform=transform)\n",
        "test_dataset = datasets.MNIST(root='./data', train=False, download=True, transform=transform)\n",
        "\n",
        "train_loader = DataLoader(dataset=train_dataset, batch_size=64, shuffle=True)\n",
        "test_loader = DataLoader(dataset=test_dataset, batch_size=64, shuffle=False)"
      ],
      "metadata": {
        "id": "ZnttZKsLDKmu"
      },
      "execution_count": 22,
      "outputs": []
    },
    {
      "cell_type": "code",
      "execution_count": 23,
      "metadata": {
        "id": "YKYB2sxeti3X"
      },
      "outputs": [],
      "source": [
        "# Функция обучения и оценки модели\n",
        "def objective(trial):\n",
        "    # Гиперпараметры\n",
        "    num_filters = trial.suggest_int(\"num_filters\", 16, 64)\n",
        "    hidden_units = trial.suggest_int(\"hidden_units\", 64, 256)\n",
        "    learning_rate = trial.suggest_loguniform(\"learning_rate\", 1e-5, 1e-1)\n",
        "    num_epochs = trial.suggest_int(\"num_epochs\", 3, 10)  # Увеличено до 10\n",
        "\n",
        "    # Инициализация модели, критерия и оптимизатора\n",
        "    model = CNN(num_filters=num_filters, hidden_units=hidden_units).to(device)\n",
        "    criterion = nn.CrossEntropyLoss()\n",
        "    optimizer = optim.Adam(model.parameters(), lr=learning_rate)\n",
        "\n",
        "    # Обучение модели\n",
        "    for epoch in range(num_epochs):\n",
        "        model.train()\n",
        "        for images, labels in train_loader:\n",
        "            images, labels = images.to(device), labels.to(device)  # Переносим на GPU\n",
        "            optimizer.zero_grad()  # Обнуляем градиенты\n",
        "            outputs = model(images)  # Прямое распространение\n",
        "            loss = criterion(outputs, labels)  # Вычисляем потерю\n",
        "            loss.backward()  # Обратное распространение\n",
        "            optimizer.step()  # Обновляем параметры\n",
        "\n",
        "        print(f'Epoch {epoch + 1}/{num_epochs}, Training Loss: {loss.item()}')\n",
        "\n",
        "    # Оценка модели на тестовых данных\n",
        "    model.eval()\n",
        "    f1_metric = torchmetrics.F1Score(num_classes=10, average='weighted', task='multiclass').to(device)\n",
        "\n",
        "    with torch.no_grad():\n",
        "        for images, labels in test_loader:\n",
        "            images, labels = images.to(device), labels.to(device)  # Переносим на GPU\n",
        "            outputs = model(images)\n",
        "            preds = torch.argmax(outputs, dim=1)\n",
        "\n",
        "            f1_metric.update(preds, labels)\n",
        "\n",
        "    f1 = f1_metric.compute()\n",
        "    f1_metric.reset()\n",
        "\n",
        "    # Сохраняем значения для графиков\n",
        "    num_filters_list.append(num_filters)\n",
        "    hidden_units_list.append(hidden_units)\n",
        "    f1_scores.append(f1.item())\n",
        "\n",
        "    return f1.item()  # Возвращаем F1"
      ]
    },
    {
      "cell_type": "code",
      "source": [
        "# Функция обучения и оценки модели\n",
        "def objective1(trial):\n",
        "    # Гиперпараметры\n",
        "    num_filters = trial.suggest_int(\"num_filters\", 16, 64)\n",
        "    hidden_units = trial.suggest_int(\"hidden_units\", 64, 256)\n",
        "    learning_rate = trial.suggest_loguniform(\"learning_rate\", 1e-5, 1e-1)\n",
        "    num_epochs = trial.suggest_int(\"num_epochs\", 3, 10)  # Увеличено до 10\n",
        "\n",
        "    # Инициализация модели, критерия и оптимизатора\n",
        "    model = CNN(num_filters=num_filters, hidden_units=hidden_units).to(device)\n",
        "    criterion = nn.CrossEntropyLoss()\n",
        "    optimizer = optim.Adam(model.parameters(), lr=learning_rate)\n",
        "\n",
        "    # Обучение модели\n",
        "    for epoch in range(num_epochs):\n",
        "        model.train()\n",
        "        for images, labels in train_loader:\n",
        "            images, labels = images.to(device), labels.to(device)  # Переносим на GPU\n",
        "            optimizer.zero_grad()  # Обнуляем градиенты\n",
        "            outputs = model(images)  # Прямое распространение\n",
        "            loss = criterion(outputs, labels)  # Вычисляем потерю\n",
        "            loss.backward()  # Обратное распространение\n",
        "            optimizer.step()  # Обновляем параметры\n",
        "\n",
        "        print(f'Epoch {epoch + 1}/{num_epochs}, Training Loss: {loss.item()}')\n",
        "\n",
        "    # Оценка модели на тестовых данных\n",
        "    model.eval()\n",
        "    accuracy_metric = torchmetrics.Accuracy(num_classes=10, average='weighted', task='multiclass').to(device)\n",
        "\n",
        "    for epoch in range(num_epochs):\n",
        "        model.train()\n",
        "        for images, labels in train_loader:\n",
        "            images, labels = images.to(device), labels.to(device)\n",
        "            optimizer.zero_grad()\n",
        "            outputs = model(images)\n",
        "            loss = criterion(outputs, labels)\n",
        "            loss.backward()\n",
        "            optimizer.step()\n",
        "\n",
        "        print(f'Epoch {epoch + 1}/{num_epochs}, Training Loss: {loss.item()}')\n",
        "\n",
        "    model.eval()\n",
        "    with torch.no_grad():\n",
        "        for images, labels in test_loader:\n",
        "            images, labels = images.to(device), labels.to(device)\n",
        "            outputs = model(images)\n",
        "            preds = torch.argmax(outputs, dim=1)\n",
        "\n",
        "            accuracy_metric.update(preds, labels)\n",
        "\n",
        "    accuracy = accuracy_metric.compute()\n",
        "    accuracy_metric.reset()\n",
        "\n",
        "    # Сохраняем значения для графиков\n",
        "    num_filters_list.append(num_filters)\n",
        "    hidden_units_list.append(hidden_units)\n",
        "    accuracy_list.append(accuracy.item())\n",
        "\n",
        "    return accuracy.item()  # Возвращаем точность"
      ],
      "metadata": {
        "id": "UoDONXcfCtcy"
      },
      "execution_count": 24,
      "outputs": []
    },
    {
      "cell_type": "code",
      "execution_count": 25,
      "metadata": {
        "colab": {
          "base_uri": "https://localhost:8080/",
          "height": 1000
        },
        "id": "YYL8lc1zHyW0",
        "outputId": "80bd4d60-2494-49aa-b616-9a81936cb68b"
      },
      "outputs": [
        {
          "output_type": "stream",
          "name": "stderr",
          "text": [
            "[I 2024-11-18 21:16:48,386] A new study created in memory with name: no-name-b816b39f-d7ed-4208-94d7-85356b3774a4\n",
            "<ipython-input-23-6d8b412f7809>:6: FutureWarning: suggest_loguniform has been deprecated in v3.0.0. This feature will be removed in v6.0.0. See https://github.com/optuna/optuna/releases/tag/v3.0.0. Use suggest_float(..., log=True) instead.\n",
            "  learning_rate = trial.suggest_loguniform(\"learning_rate\", 1e-5, 1e-1)\n"
          ]
        },
        {
          "output_type": "stream",
          "name": "stdout",
          "text": [
            "Epoch 1/7, Training Loss: 0.22670957446098328\n",
            "Epoch 2/7, Training Loss: 0.06385567039251328\n",
            "Epoch 3/7, Training Loss: 0.1363244205713272\n",
            "Epoch 4/7, Training Loss: 0.22149965167045593\n",
            "Epoch 5/7, Training Loss: 0.05626334249973297\n",
            "Epoch 6/7, Training Loss: 0.03924139216542244\n",
            "Epoch 7/7, Training Loss: 0.15614354610443115\n"
          ]
        },
        {
          "output_type": "stream",
          "name": "stderr",
          "text": [
            "[I 2024-11-18 21:18:41,740] Trial 0 finished with value: 0.9787882566452026 and parameters: {'num_filters': 44, 'hidden_units': 245, 'learning_rate': 1.6778550147600985e-05, 'num_epochs': 7}. Best is trial 0 with value: 0.9787882566452026.\n"
          ]
        },
        {
          "output_type": "stream",
          "name": "stdout",
          "text": [
            "Epoch 1/3, Training Loss: 0.014845447614789009\n",
            "Epoch 2/3, Training Loss: 0.1427973508834839\n",
            "Epoch 3/3, Training Loss: 0.2849772572517395\n"
          ]
        },
        {
          "output_type": "stream",
          "name": "stderr",
          "text": [
            "[I 2024-11-18 21:19:31,780] Trial 1 finished with value: 0.9631644487380981 and parameters: {'num_filters': 37, 'hidden_units': 134, 'learning_rate': 0.011916804130341394, 'num_epochs': 3}. Best is trial 0 with value: 0.9787882566452026.\n"
          ]
        },
        {
          "output_type": "stream",
          "name": "stdout",
          "text": [
            "Epoch 1/5, Training Loss: 0.012547966092824936\n",
            "Epoch 2/5, Training Loss: 0.09661798179149628\n",
            "Epoch 3/5, Training Loss: 0.006920664105564356\n",
            "Epoch 4/5, Training Loss: 0.1522386223077774\n",
            "Epoch 5/5, Training Loss: 0.02247626706957817\n"
          ]
        },
        {
          "output_type": "stream",
          "name": "stderr",
          "text": [
            "[I 2024-11-18 21:20:53,180] Trial 2 finished with value: 0.9844927787780762 and parameters: {'num_filters': 39, 'hidden_units': 135, 'learning_rate': 0.00392818823925163, 'num_epochs': 5}. Best is trial 2 with value: 0.9844927787780762.\n"
          ]
        },
        {
          "output_type": "stream",
          "name": "stdout",
          "text": [
            "Epoch 1/9, Training Loss: 2.3049066066741943\n",
            "Epoch 2/9, Training Loss: 2.3092665672302246\n",
            "Epoch 3/9, Training Loss: 2.2983250617980957\n",
            "Epoch 4/9, Training Loss: 2.277865409851074\n",
            "Epoch 5/9, Training Loss: 2.329288959503174\n",
            "Epoch 6/9, Training Loss: 2.3064324855804443\n",
            "Epoch 7/9, Training Loss: 2.294422149658203\n",
            "Epoch 8/9, Training Loss: 2.29235577583313\n",
            "Epoch 9/9, Training Loss: 2.343329906463623\n"
          ]
        },
        {
          "output_type": "stream",
          "name": "stderr",
          "text": [
            "[I 2024-11-18 21:23:18,025] Trial 3 finished with value: 0.01916547119617462 and parameters: {'num_filters': 37, 'hidden_units': 165, 'learning_rate': 0.03527718164318279, 'num_epochs': 9}. Best is trial 2 with value: 0.9844927787780762.\n"
          ]
        },
        {
          "output_type": "stream",
          "name": "stdout",
          "text": [
            "Epoch 1/6, Training Loss: 0.06765468418598175\n",
            "Epoch 2/6, Training Loss: 0.08393383026123047\n",
            "Epoch 3/6, Training Loss: 0.010827833786606789\n",
            "Epoch 4/6, Training Loss: 0.05453953146934509\n",
            "Epoch 5/6, Training Loss: 0.0263067539781332\n",
            "Epoch 6/6, Training Loss: 0.0010390649549663067\n"
          ]
        },
        {
          "output_type": "stream",
          "name": "stderr",
          "text": [
            "[I 2024-11-18 21:24:54,763] Trial 4 finished with value: 0.9896942973136902 and parameters: {'num_filters': 58, 'hidden_units': 117, 'learning_rate': 0.00016033912444849815, 'num_epochs': 6}. Best is trial 4 with value: 0.9896942973136902.\n"
          ]
        },
        {
          "output_type": "stream",
          "name": "stdout",
          "text": [
            "Epoch 1/3, Training Loss: 2.299506425857544\n",
            "Epoch 2/3, Training Loss: 2.3028078079223633\n",
            "Epoch 3/3, Training Loss: 2.3011562824249268\n"
          ]
        },
        {
          "output_type": "stream",
          "name": "stderr",
          "text": [
            "[I 2024-11-18 21:25:44,346] Trial 5 finished with value: 0.02313830330967903 and parameters: {'num_filters': 34, 'hidden_units': 226, 'learning_rate': 0.016063366125388147, 'num_epochs': 3}. Best is trial 4 with value: 0.9896942973136902.\n"
          ]
        },
        {
          "output_type": "stream",
          "name": "stdout",
          "text": [
            "Epoch 1/9, Training Loss: 0.06335832178592682\n",
            "Epoch 2/9, Training Loss: 0.10758504271507263\n",
            "Epoch 3/9, Training Loss: 0.05564721301198006\n",
            "Epoch 4/9, Training Loss: 0.026718994602560997\n",
            "Epoch 5/9, Training Loss: 0.03579026088118553\n",
            "Epoch 6/9, Training Loss: 0.01828341744840145\n",
            "Epoch 7/9, Training Loss: 0.21108125150203705\n",
            "Epoch 8/9, Training Loss: 0.0014393535675480962\n",
            "Epoch 9/9, Training Loss: 0.13835255801677704\n"
          ]
        },
        {
          "output_type": "stream",
          "name": "stderr",
          "text": [
            "[I 2024-11-18 21:28:08,342] Trial 6 finished with value: 0.9701352715492249 and parameters: {'num_filters': 59, 'hidden_units': 130, 'learning_rate': 0.005021099672261795, 'num_epochs': 9}. Best is trial 4 with value: 0.9896942973136902.\n"
          ]
        },
        {
          "output_type": "stream",
          "name": "stdout",
          "text": [
            "Epoch 1/10, Training Loss: 0.27149084210395813\n",
            "Epoch 2/10, Training Loss: 0.16800235211849213\n",
            "Epoch 3/10, Training Loss: 0.05120770260691643\n",
            "Epoch 4/10, Training Loss: 0.04207378625869751\n",
            "Epoch 5/10, Training Loss: 0.23093686997890472\n",
            "Epoch 6/10, Training Loss: 0.06252531707286835\n",
            "Epoch 7/10, Training Loss: 0.1553567796945572\n",
            "Epoch 8/10, Training Loss: 0.0506526455283165\n",
            "Epoch 9/10, Training Loss: 0.044779837131500244\n",
            "Epoch 10/10, Training Loss: 0.030891647562384605\n"
          ]
        },
        {
          "output_type": "stream",
          "name": "stderr",
          "text": [
            "[I 2024-11-18 21:30:48,617] Trial 7 finished with value: 0.9791836738586426 and parameters: {'num_filters': 20, 'hidden_units': 109, 'learning_rate': 2.423912705508329e-05, 'num_epochs': 10}. Best is trial 4 with value: 0.9896942973136902.\n"
          ]
        },
        {
          "output_type": "stream",
          "name": "stdout",
          "text": [
            "Epoch 1/10, Training Loss: 0.020141590386629105\n",
            "Epoch 2/10, Training Loss: 0.002045127097517252\n",
            "Epoch 3/10, Training Loss: 0.00346996053121984\n",
            "Epoch 4/10, Training Loss: 0.00023279910965356976\n",
            "Epoch 5/10, Training Loss: 0.002930588088929653\n",
            "Epoch 6/10, Training Loss: 0.0037885073106735945\n",
            "Epoch 7/10, Training Loss: 0.00916951335966587\n",
            "Epoch 8/10, Training Loss: 0.000896835932508111\n",
            "Epoch 9/10, Training Loss: 7.573622860945761e-05\n",
            "Epoch 10/10, Training Loss: 0.022666864097118378\n"
          ]
        },
        {
          "output_type": "stream",
          "name": "stderr",
          "text": [
            "[I 2024-11-18 21:33:26,301] Trial 8 finished with value: 0.9877009391784668 and parameters: {'num_filters': 51, 'hidden_units': 97, 'learning_rate': 0.0025112006084304747, 'num_epochs': 10}. Best is trial 4 with value: 0.9896942973136902.\n"
          ]
        },
        {
          "output_type": "stream",
          "name": "stdout",
          "text": [
            "Epoch 1/4, Training Loss: 0.05456883832812309\n",
            "Epoch 2/4, Training Loss: 0.003072927473112941\n",
            "Epoch 3/4, Training Loss: 0.00043694357736967504\n",
            "Epoch 4/4, Training Loss: 8.986252214526758e-05\n"
          ]
        },
        {
          "output_type": "stream",
          "name": "stderr",
          "text": [
            "[I 2024-11-18 21:34:32,008] Trial 9 finished with value: 0.9901927709579468 and parameters: {'num_filters': 60, 'hidden_units': 84, 'learning_rate': 0.0024787644105059748, 'num_epochs': 4}. Best is trial 9 with value: 0.9901927709579468.\n"
          ]
        },
        {
          "output_type": "stream",
          "name": "stdout",
          "text": [
            "Epoch 1/5, Training Loss: 0.026039354503154755\n",
            "Epoch 2/5, Training Loss: 0.0600617378950119\n",
            "Epoch 3/5, Training Loss: 0.021831318736076355\n",
            "Epoch 4/5, Training Loss: 0.0007736760308034718\n",
            "Epoch 5/5, Training Loss: 0.12767906486988068\n"
          ]
        },
        {
          "output_type": "stream",
          "name": "stderr",
          "text": [
            "[I 2024-11-18 21:35:51,918] Trial 10 finished with value: 0.9882030487060547 and parameters: {'num_filters': 25, 'hidden_units': 64, 'learning_rate': 0.00033789232976846, 'num_epochs': 5}. Best is trial 9 with value: 0.9901927709579468.\n"
          ]
        },
        {
          "output_type": "stream",
          "name": "stdout",
          "text": [
            "Epoch 1/6, Training Loss: 0.026915766298770905\n",
            "Epoch 2/6, Training Loss: 0.04393914341926575\n",
            "Epoch 3/6, Training Loss: 0.01190892606973648\n",
            "Epoch 4/6, Training Loss: 0.10187410563230515\n",
            "Epoch 5/6, Training Loss: 0.019329864531755447\n",
            "Epoch 6/6, Training Loss: 0.010409574955701828\n"
          ]
        },
        {
          "output_type": "stream",
          "name": "stderr",
          "text": [
            "[I 2024-11-18 21:37:28,847] Trial 11 finished with value: 0.9895991086959839 and parameters: {'num_filters': 64, 'hidden_units': 77, 'learning_rate': 0.00027873822695608744, 'num_epochs': 6}. Best is trial 9 with value: 0.9901927709579468.\n"
          ]
        },
        {
          "output_type": "stream",
          "name": "stdout",
          "text": [
            "Epoch 1/4, Training Loss: 0.10525082051753998\n",
            "Epoch 2/4, Training Loss: 0.018905341625213623\n",
            "Epoch 3/4, Training Loss: 0.0015843918081372976\n",
            "Epoch 4/4, Training Loss: 0.0011791256256401539\n"
          ]
        },
        {
          "output_type": "stream",
          "name": "stderr",
          "text": [
            "[I 2024-11-18 21:38:35,559] Trial 12 finished with value: 0.9885983467102051 and parameters: {'num_filters': 53, 'hidden_units': 191, 'learning_rate': 0.0007342787414127587, 'num_epochs': 4}. Best is trial 9 with value: 0.9901927709579468.\n"
          ]
        },
        {
          "output_type": "stream",
          "name": "stdout",
          "text": [
            "Epoch 1/7, Training Loss: 0.12424948811531067\n",
            "Epoch 2/7, Training Loss: 0.0953640341758728\n",
            "Epoch 3/7, Training Loss: 0.02363651618361473\n",
            "Epoch 4/7, Training Loss: 0.0017504700226709247\n",
            "Epoch 5/7, Training Loss: 0.011097336187958717\n",
            "Epoch 6/7, Training Loss: 0.050361987203359604\n",
            "Epoch 7/7, Training Loss: 0.004120722413063049\n"
          ]
        },
        {
          "output_type": "stream",
          "name": "stderr",
          "text": [
            "[I 2024-11-18 21:40:26,917] Trial 13 finished with value: 0.9875987768173218 and parameters: {'num_filters': 54, 'hidden_units': 97, 'learning_rate': 7.677386666162409e-05, 'num_epochs': 7}. Best is trial 9 with value: 0.9901927709579468.\n"
          ]
        },
        {
          "output_type": "stream",
          "name": "stdout",
          "text": [
            "Epoch 1/5, Training Loss: 0.04447351396083832\n",
            "Epoch 2/5, Training Loss: 0.003443610854446888\n",
            "Epoch 3/5, Training Loss: 0.0014379103668034077\n",
            "Epoch 4/5, Training Loss: 0.061461981385946274\n",
            "Epoch 5/5, Training Loss: 0.003150442847982049\n"
          ]
        },
        {
          "output_type": "stream",
          "name": "stderr",
          "text": [
            "[I 2024-11-18 21:41:46,616] Trial 14 finished with value: 0.989694356918335 and parameters: {'num_filters': 64, 'hidden_units': 164, 'learning_rate': 0.00014047046643465505, 'num_epochs': 5}. Best is trial 9 with value: 0.9901927709579468.\n"
          ]
        },
        {
          "output_type": "stream",
          "name": "stdout",
          "text": [
            "Epoch 1/4, Training Loss: 0.19053901731967926\n",
            "Epoch 2/4, Training Loss: 0.04728522524237633\n",
            "Epoch 3/4, Training Loss: 0.00025080007617361844\n",
            "Epoch 4/4, Training Loss: 0.0010449286783114076\n"
          ]
        },
        {
          "output_type": "stream",
          "name": "stderr",
          "text": [
            "[I 2024-11-18 21:42:50,510] Trial 15 finished with value: 0.9917033910751343 and parameters: {'num_filters': 64, 'hidden_units': 176, 'learning_rate': 0.0013654604765888966, 'num_epochs': 4}. Best is trial 15 with value: 0.9917033910751343.\n"
          ]
        },
        {
          "output_type": "stream",
          "name": "stdout",
          "text": [
            "Epoch 1/4, Training Loss: 2.298868179321289\n",
            "Epoch 2/4, Training Loss: 2.2938342094421387\n",
            "Epoch 3/4, Training Loss: 2.3549890518188477\n",
            "Epoch 4/4, Training Loss: 2.318939447402954\n"
          ]
        },
        {
          "output_type": "stream",
          "name": "stderr",
          "text": [
            "[I 2024-11-18 21:43:54,285] Trial 16 finished with value: 0.01916547119617462 and parameters: {'num_filters': 47, 'hidden_units': 193, 'learning_rate': 0.09552832671503553, 'num_epochs': 4}. Best is trial 15 with value: 0.9917033910751343.\n"
          ]
        },
        {
          "output_type": "stream",
          "name": "stdout",
          "text": [
            "Epoch 1/4, Training Loss: 0.14849083125591278\n",
            "Epoch 2/4, Training Loss: 0.002713915193453431\n",
            "Epoch 3/4, Training Loss: 0.12837067246437073\n",
            "Epoch 4/4, Training Loss: 0.00026230994262732565\n"
          ]
        },
        {
          "output_type": "stream",
          "name": "stderr",
          "text": [
            "[I 2024-11-18 21:44:57,699] Trial 17 finished with value: 0.9902934432029724 and parameters: {'num_filters': 59, 'hidden_units': 198, 'learning_rate': 0.002248613670517812, 'num_epochs': 4}. Best is trial 15 with value: 0.9917033910751343.\n"
          ]
        },
        {
          "output_type": "stream",
          "name": "stdout",
          "text": [
            "Epoch 1/3, Training Loss: 0.062545046210289\n",
            "Epoch 2/3, Training Loss: 0.01350616104900837\n",
            "Epoch 3/3, Training Loss: 0.000651781156193465\n"
          ]
        },
        {
          "output_type": "stream",
          "name": "stderr",
          "text": [
            "[I 2024-11-18 21:45:46,163] Trial 18 finished with value: 0.9895085096359253 and parameters: {'num_filters': 50, 'hidden_units': 197, 'learning_rate': 0.001104212188105948, 'num_epochs': 3}. Best is trial 15 with value: 0.9917033910751343.\n"
          ]
        },
        {
          "output_type": "stream",
          "name": "stdout",
          "text": [
            "Epoch 1/8, Training Loss: 0.15503208339214325\n",
            "Epoch 2/8, Training Loss: 0.002099162433296442\n",
            "Epoch 3/8, Training Loss: 0.05778666213154793\n",
            "Epoch 4/8, Training Loss: 0.1304793357849121\n",
            "Epoch 5/8, Training Loss: 0.03103335201740265\n",
            "Epoch 6/8, Training Loss: 1.3071077773929574e-05\n",
            "Epoch 7/8, Training Loss: 0.0006657529156655073\n",
            "Epoch 8/8, Training Loss: 0.0003665276453830302\n"
          ]
        },
        {
          "output_type": "stream",
          "name": "stderr",
          "text": [
            "[I 2024-11-18 21:47:51,427] Trial 19 finished with value: 0.9915974736213684 and parameters: {'num_filters': 31, 'hidden_units': 218, 'learning_rate': 0.0007118330105397622, 'num_epochs': 8}. Best is trial 15 with value: 0.9917033910751343.\n"
          ]
        },
        {
          "output_type": "stream",
          "name": "stdout",
          "text": [
            "Epoch 1/8, Training Loss: 0.07132192701101303\n",
            "Epoch 2/8, Training Loss: 0.00481803435832262\n",
            "Epoch 3/8, Training Loss: 0.0002890006871894002\n",
            "Epoch 4/8, Training Loss: 0.01222321018576622\n",
            "Epoch 5/8, Training Loss: 0.005980756599456072\n",
            "Epoch 6/8, Training Loss: 0.0003341102856211364\n",
            "Epoch 7/8, Training Loss: 1.0825197932717856e-05\n",
            "Epoch 8/8, Training Loss: 0.0008060414111241698\n"
          ]
        },
        {
          "output_type": "stream",
          "name": "stderr",
          "text": [
            "[I 2024-11-18 21:49:56,572] Trial 20 finished with value: 0.9912989735603333 and parameters: {'num_filters': 30, 'hidden_units': 225, 'learning_rate': 0.0006538769417430517, 'num_epochs': 8}. Best is trial 15 with value: 0.9917033910751343.\n"
          ]
        },
        {
          "output_type": "stream",
          "name": "stdout",
          "text": [
            "Epoch 1/8, Training Loss: 0.14579463005065918\n",
            "Epoch 2/8, Training Loss: 0.005477932747453451\n",
            "Epoch 3/8, Training Loss: 0.008997289463877678\n",
            "Epoch 4/8, Training Loss: 0.0016012981068342924\n",
            "Epoch 5/8, Training Loss: 0.0011885752901434898\n",
            "Epoch 6/8, Training Loss: 0.07507455348968506\n",
            "Epoch 7/8, Training Loss: 0.010610084049403667\n",
            "Epoch 8/8, Training Loss: 9.274239710066468e-05\n"
          ]
        },
        {
          "output_type": "stream",
          "name": "stderr",
          "text": [
            "[I 2024-11-18 21:52:00,064] Trial 21 finished with value: 0.9917988181114197 and parameters: {'num_filters': 30, 'hidden_units': 228, 'learning_rate': 0.0006753807851413122, 'num_epochs': 8}. Best is trial 21 with value: 0.9917988181114197.\n"
          ]
        },
        {
          "output_type": "stream",
          "name": "stdout",
          "text": [
            "Epoch 1/8, Training Loss: 0.01901085488498211\n",
            "Epoch 2/8, Training Loss: 0.13225317001342773\n",
            "Epoch 3/8, Training Loss: 0.002051924355328083\n",
            "Epoch 4/8, Training Loss: 0.0016120512736961246\n",
            "Epoch 5/8, Training Loss: 0.0006218759226612747\n",
            "Epoch 6/8, Training Loss: 0.00010169544111704454\n",
            "Epoch 7/8, Training Loss: 7.00352472904342e-07\n",
            "Epoch 8/8, Training Loss: 0.00028569746064022183\n"
          ]
        },
        {
          "output_type": "stream",
          "name": "stderr",
          "text": [
            "[I 2024-11-18 21:54:03,956] Trial 22 finished with value: 0.9912002086639404 and parameters: {'num_filters': 29, 'hidden_units': 255, 'learning_rate': 0.0010814943317953884, 'num_epochs': 8}. Best is trial 21 with value: 0.9917988181114197.\n"
          ]
        },
        {
          "output_type": "stream",
          "name": "stdout",
          "text": [
            "Epoch 1/8, Training Loss: 0.05191554129123688\n",
            "Epoch 2/8, Training Loss: 0.05614905431866646\n",
            "Epoch 3/8, Training Loss: 0.06808383017778397\n",
            "Epoch 4/8, Training Loss: 0.017411844804883003\n",
            "Epoch 5/8, Training Loss: 0.030341094359755516\n",
            "Epoch 6/8, Training Loss: 0.021306456997990608\n",
            "Epoch 7/8, Training Loss: 0.03003527596592903\n",
            "Epoch 8/8, Training Loss: 0.007027585059404373\n"
          ]
        },
        {
          "output_type": "stream",
          "name": "stderr",
          "text": [
            "[I 2024-11-18 21:56:07,404] Trial 23 finished with value: 0.985693097114563 and parameters: {'num_filters': 22, 'hidden_units': 219, 'learning_rate': 5.6672342811724194e-05, 'num_epochs': 8}. Best is trial 21 with value: 0.9917988181114197.\n"
          ]
        },
        {
          "output_type": "stream",
          "name": "stdout",
          "text": [
            "Epoch 1/9, Training Loss: 0.21422173082828522\n",
            "Epoch 2/9, Training Loss: 0.008518592454493046\n",
            "Epoch 3/9, Training Loss: 0.015751482918858528\n",
            "Epoch 4/9, Training Loss: 0.04356793314218521\n",
            "Epoch 5/9, Training Loss: 0.007088343147188425\n",
            "Epoch 6/9, Training Loss: 0.006926540285348892\n",
            "Epoch 7/9, Training Loss: 0.0007598597439937294\n",
            "Epoch 8/9, Training Loss: 0.000116368530143518\n",
            "Epoch 9/9, Training Loss: 0.00040130451088771224\n"
          ]
        },
        {
          "output_type": "stream",
          "name": "stderr",
          "text": [
            "[I 2024-11-18 21:58:21,566] Trial 24 finished with value: 0.9906991720199585 and parameters: {'num_filters': 17, 'hidden_units': 177, 'learning_rate': 0.00037738390291851097, 'num_epochs': 9}. Best is trial 21 with value: 0.9917988181114197.\n"
          ]
        },
        {
          "output_type": "stream",
          "name": "stdout",
          "text": [
            "Epoch 1/7, Training Loss: 2.3169612884521484\n",
            "Epoch 2/7, Training Loss: 2.3040804862976074\n",
            "Epoch 3/7, Training Loss: 2.2737579345703125\n",
            "Epoch 4/7, Training Loss: 2.3189754486083984\n",
            "Epoch 5/7, Training Loss: 2.3136675357818604\n",
            "Epoch 6/7, Training Loss: 2.296410083770752\n",
            "Epoch 7/7, Training Loss: 2.2977890968322754\n"
          ]
        },
        {
          "output_type": "stream",
          "name": "stderr",
          "text": [
            "[I 2024-11-18 22:00:05,676] Trial 25 finished with value: 0.02313830330967903 and parameters: {'num_filters': 29, 'hidden_units': 214, 'learning_rate': 0.00736295787444286, 'num_epochs': 7}. Best is trial 21 with value: 0.9917988181114197.\n"
          ]
        },
        {
          "output_type": "stream",
          "name": "stdout",
          "text": [
            "Epoch 1/8, Training Loss: 0.005500681232661009\n",
            "Epoch 2/8, Training Loss: 0.012522159144282341\n",
            "Epoch 3/8, Training Loss: 0.00039559160359203815\n",
            "Epoch 4/8, Training Loss: 0.0014525128062814474\n",
            "Epoch 5/8, Training Loss: 0.00023841804068069905\n",
            "Epoch 6/8, Training Loss: 0.056376803666353226\n",
            "Epoch 7/8, Training Loss: 0.0033449067268520594\n",
            "Epoch 8/8, Training Loss: 0.00017517943342681974\n"
          ]
        },
        {
          "output_type": "stream",
          "name": "stderr",
          "text": [
            "[I 2024-11-18 22:02:05,012] Trial 26 finished with value: 0.9911953210830688 and parameters: {'num_filters': 42, 'hidden_units': 239, 'learning_rate': 0.0014565578019792495, 'num_epochs': 8}. Best is trial 21 with value: 0.9917988181114197.\n"
          ]
        },
        {
          "output_type": "stream",
          "name": "stdout",
          "text": [
            "Epoch 1/6, Training Loss: 0.09231962263584137\n",
            "Epoch 2/6, Training Loss: 0.021721091121435165\n",
            "Epoch 3/6, Training Loss: 0.0017046219436451793\n",
            "Epoch 4/6, Training Loss: 0.041114699095487595\n",
            "Epoch 5/6, Training Loss: 0.002028017770498991\n",
            "Epoch 6/6, Training Loss: 0.09583189338445663\n"
          ]
        },
        {
          "output_type": "stream",
          "name": "stderr",
          "text": [
            "[I 2024-11-18 22:03:34,927] Trial 27 finished with value: 0.9901994466781616 and parameters: {'num_filters': 33, 'hidden_units': 209, 'learning_rate': 0.00017595750810713124, 'num_epochs': 6}. Best is trial 21 with value: 0.9917988181114197.\n"
          ]
        },
        {
          "output_type": "stream",
          "name": "stdout",
          "text": [
            "Epoch 1/9, Training Loss: 0.11039772629737854\n",
            "Epoch 2/9, Training Loss: 0.015351557172834873\n",
            "Epoch 3/9, Training Loss: 0.03784988820552826\n",
            "Epoch 4/9, Training Loss: 0.277245432138443\n",
            "Epoch 5/9, Training Loss: 0.007930914871394634\n",
            "Epoch 6/9, Training Loss: 0.0001925429969560355\n",
            "Epoch 7/9, Training Loss: 0.00042611616663634777\n",
            "Epoch 8/9, Training Loss: 3.1961986678652465e-05\n",
            "Epoch 9/9, Training Loss: 0.00146616215351969\n"
          ]
        },
        {
          "output_type": "stream",
          "name": "stderr",
          "text": [
            "[I 2024-11-18 22:05:48,922] Trial 28 finished with value: 0.9923017024993896 and parameters: {'num_filters': 26, 'hidden_units': 152, 'learning_rate': 0.0005446003601459186, 'num_epochs': 9}. Best is trial 28 with value: 0.9923017024993896.\n"
          ]
        },
        {
          "output_type": "stream",
          "name": "stdout",
          "text": [
            "Epoch 1/7, Training Loss: 0.3155488967895508\n",
            "Epoch 2/7, Training Loss: 0.21678151190280914\n",
            "Epoch 3/7, Training Loss: 0.0444718673825264\n",
            "Epoch 4/7, Training Loss: 0.05559990555047989\n",
            "Epoch 5/7, Training Loss: 0.01964631676673889\n",
            "Epoch 6/7, Training Loss: 0.013568809255957603\n",
            "Epoch 7/7, Training Loss: 0.08024448156356812\n"
          ]
        },
        {
          "output_type": "stream",
          "name": "stderr",
          "text": [
            "[I 2024-11-18 22:07:33,324] Trial 29 finished with value: 0.9823911190032959 and parameters: {'num_filters': 26, 'hidden_units': 151, 'learning_rate': 3.731010722829005e-05, 'num_epochs': 7}. Best is trial 28 with value: 0.9923017024993896.\n"
          ]
        },
        {
          "output_type": "stream",
          "name": "stdout",
          "text": [
            "Best trial:\n",
            "  F1 Score: 0.9923017024993896\n",
            "  Params: \n",
            "    num_filters: 26\n",
            "    hidden_units: 152\n",
            "    learning_rate: 0.0005446003601459186\n",
            "    num_epochs: 9\n"
          ]
        },
        {
          "output_type": "display_data",
          "data": {
            "text/plain": [
              "<Figure size 1000x600 with 2 Axes>"
            ],
            "image/png": "[encoded data removed]"
          },
          "metadata": {}
        },
        {
          "output_type": "stream",
          "name": "stderr",
          "text": [
            "[I 2024-11-18 22:07:33,587] A new study created in memory with name: no-name-edb1d085-1d6c-4574-bd62-f9e1655f3650\n"
          ]
        },
        {
          "output_type": "stream",
          "name": "stdout",
          "text": [
            "Epoch 1/7, Training Loss: 0.04112078249454498\n",
            "Epoch 2/7, Training Loss: 0.017074815928936005\n",
            "Epoch 3/7, Training Loss: 0.010698769241571426\n",
            "Epoch 4/7, Training Loss: 0.017110025510191917\n",
            "Epoch 5/7, Training Loss: 0.0007432561251334846\n",
            "Epoch 6/7, Training Loss: 0.0020331135019659996\n",
            "Epoch 7/7, Training Loss: 0.06395173072814941\n",
            "Epoch 1/7, Training Loss: 0.02643316052854061\n",
            "Epoch 2/7, Training Loss: 0.005225431639701128\n",
            "Epoch 3/7, Training Loss: 0.0008818845963105559\n",
            "Epoch 4/7, Training Loss: 0.00016936803876888007\n",
            "Epoch 5/7, Training Loss: 0.0019388283835723996\n",
            "Epoch 6/7, Training Loss: 0.08012338727712631\n",
            "Epoch 7/7, Training Loss: 8.401359082199633e-05\n"
          ]
        },
        {
          "output_type": "stream",
          "name": "stderr",
          "text": [
            "[I 2024-11-18 22:10:59,891] Trial 0 finished with value: 0.9907999634742737 and parameters: {'num_filters': 27, 'hidden_units': 203, 'learning_rate': 0.0003344939065681287, 'num_epochs': 7}. Best is trial 0 with value: 0.9907999634742737.\n"
          ]
        },
        {
          "output_type": "stream",
          "name": "stdout",
          "text": [
            "Epoch 1/8, Training Loss: 2.2976083755493164\n",
            "Epoch 2/8, Training Loss: 2.311053514480591\n",
            "Epoch 3/8, Training Loss: 2.298666477203369\n",
            "Epoch 4/8, Training Loss: 2.3060038089752197\n",
            "Epoch 5/8, Training Loss: 2.323367118835449\n",
            "Epoch 6/8, Training Loss: 2.342897891998291\n",
            "Epoch 7/8, Training Loss: 2.3007781505584717\n",
            "Epoch 8/8, Training Loss: 2.2989938259124756\n",
            "Epoch 1/8, Training Loss: 2.3102917671203613\n",
            "Epoch 2/8, Training Loss: 2.346651554107666\n",
            "Epoch 3/8, Training Loss: 2.3035435676574707\n",
            "Epoch 4/8, Training Loss: 2.3013453483581543\n",
            "Epoch 5/8, Training Loss: 2.346799373626709\n",
            "Epoch 6/8, Training Loss: 2.272861957550049\n",
            "Epoch 7/8, Training Loss: 2.3021912574768066\n",
            "Epoch 8/8, Training Loss: 2.340445041656494\n"
          ]
        },
        {
          "output_type": "stream",
          "name": "stderr",
          "text": [
            "[I 2024-11-18 22:14:59,159] Trial 1 finished with value: 0.10320000350475311 and parameters: {'num_filters': 41, 'hidden_units': 132, 'learning_rate': 0.04558013512512055, 'num_epochs': 8}. Best is trial 0 with value: 0.9907999634742737.\n"
          ]
        },
        {
          "output_type": "stream",
          "name": "stdout",
          "text": [
            "Epoch 1/8, Training Loss: 0.08915573358535767\n",
            "Epoch 2/8, Training Loss: 0.009854761883616447\n",
            "Epoch 3/8, Training Loss: 0.0020795532036572695\n",
            "Epoch 4/8, Training Loss: 0.10882008075714111\n",
            "Epoch 5/8, Training Loss: 0.012325863353908062\n",
            "Epoch 6/8, Training Loss: 0.12152832746505737\n",
            "Epoch 7/8, Training Loss: 0.01370923686772585\n",
            "Epoch 8/8, Training Loss: 0.0077536944299936295\n",
            "Epoch 1/8, Training Loss: 0.02286449261009693\n",
            "Epoch 2/8, Training Loss: 0.09918167442083359\n",
            "Epoch 3/8, Training Loss: 0.002408468397334218\n",
            "Epoch 4/8, Training Loss: 0.02076186053454876\n",
            "Epoch 5/8, Training Loss: 0.014885611832141876\n",
            "Epoch 6/8, Training Loss: 0.2011043280363083\n",
            "Epoch 7/8, Training Loss: 0.0004960913793183863\n",
            "Epoch 8/8, Training Loss: 0.05752116069197655\n"
          ]
        },
        {
          "output_type": "stream",
          "name": "stderr",
          "text": [
            "[I 2024-11-18 22:19:02,031] Trial 2 finished with value: 0.963100016117096 and parameters: {'num_filters': 61, 'hidden_units': 248, 'learning_rate': 0.015824518349453767, 'num_epochs': 8}. Best is trial 0 with value: 0.9907999634742737.\n"
          ]
        },
        {
          "output_type": "stream",
          "name": "stdout",
          "text": [
            "Epoch 1/3, Training Loss: 0.19801558554172516\n",
            "Epoch 2/3, Training Loss: 0.00586618110537529\n",
            "Epoch 3/3, Training Loss: 0.03125746175646782\n",
            "Epoch 1/3, Training Loss: 0.004483443684875965\n",
            "Epoch 2/3, Training Loss: 0.015086885541677475\n",
            "Epoch 3/3, Training Loss: 0.11921146512031555\n"
          ]
        },
        {
          "output_type": "stream",
          "name": "stderr",
          "text": [
            "[I 2024-11-18 22:20:32,740] Trial 3 finished with value: 0.9851999878883362 and parameters: {'num_filters': 46, 'hidden_units': 86, 'learning_rate': 0.0041588784304794615, 'num_epochs': 3}. Best is trial 0 with value: 0.9907999634742737.\n"
          ]
        },
        {
          "output_type": "stream",
          "name": "stdout",
          "text": [
            "Epoch 1/5, Training Loss: 0.08864648640155792\n",
            "Epoch 2/5, Training Loss: 0.15085449814796448\n",
            "Epoch 3/5, Training Loss: 0.22426575422286987\n",
            "Epoch 4/5, Training Loss: 0.007805521599948406\n",
            "Epoch 5/5, Training Loss: 0.08018836379051208\n",
            "Epoch 1/5, Training Loss: 0.05930346995592117\n",
            "Epoch 2/5, Training Loss: 0.010941596701741219\n",
            "Epoch 3/5, Training Loss: 0.01577039249241352\n",
            "Epoch 4/5, Training Loss: 0.007847720757126808\n",
            "Epoch 5/5, Training Loss: 0.00927433930337429\n"
          ]
        },
        {
          "output_type": "stream",
          "name": "stderr",
          "text": [
            "[I 2024-11-18 22:23:01,185] Trial 4 finished with value: 0.9872999787330627 and parameters: {'num_filters': 35, 'hidden_units': 148, 'learning_rate': 5.4100830349742104e-05, 'num_epochs': 5}. Best is trial 0 with value: 0.9907999634742737.\n"
          ]
        },
        {
          "output_type": "stream",
          "name": "stdout",
          "text": [
            "Epoch 1/8, Training Loss: 0.04590820521116257\n",
            "Epoch 2/8, Training Loss: 0.0401785671710968\n",
            "Epoch 3/8, Training Loss: 0.0035349950194358826\n",
            "Epoch 4/8, Training Loss: 0.02518666721880436\n",
            "Epoch 5/8, Training Loss: 0.003672368125990033\n",
            "Epoch 6/8, Training Loss: 0.009493542835116386\n",
            "Epoch 7/8, Training Loss: 0.06430544704198837\n",
            "Epoch 8/8, Training Loss: 0.002604064531624317\n",
            "Epoch 1/8, Training Loss: 0.0013664774596691132\n",
            "Epoch 2/8, Training Loss: 0.0006544310017488897\n",
            "Epoch 3/8, Training Loss: 0.013425402343273163\n",
            "Epoch 4/8, Training Loss: 0.005335589870810509\n",
            "Epoch 5/8, Training Loss: 0.0008902745321393013\n",
            "Epoch 6/8, Training Loss: 0.04805394262075424\n",
            "Epoch 7/8, Training Loss: 0.001538793439976871\n",
            "Epoch 8/8, Training Loss: 0.0012488231295719743\n"
          ]
        },
        {
          "output_type": "stream",
          "name": "stderr",
          "text": [
            "[I 2024-11-18 22:27:00,997] Trial 5 finished with value: 0.991100013256073 and parameters: {'num_filters': 57, 'hidden_units': 74, 'learning_rate': 0.00010391230679288197, 'num_epochs': 8}. Best is trial 5 with value: 0.991100013256073.\n"
          ]
        },
        {
          "output_type": "stream",
          "name": "stdout",
          "text": [
            "Epoch 1/7, Training Loss: 2.3134407997131348\n",
            "Epoch 2/7, Training Loss: 2.3001182079315186\n",
            "Epoch 3/7, Training Loss: 2.301673650741577\n",
            "Epoch 4/7, Training Loss: 2.2924444675445557\n",
            "Epoch 5/7, Training Loss: 2.3217244148254395\n",
            "Epoch 6/7, Training Loss: 2.294595956802368\n",
            "Epoch 7/7, Training Loss: 2.3150172233581543\n",
            "Epoch 1/7, Training Loss: 2.304537296295166\n",
            "Epoch 2/7, Training Loss: 2.293821334838867\n",
            "Epoch 3/7, Training Loss: 2.310939311981201\n",
            "Epoch 4/7, Training Loss: 2.289669990539551\n",
            "Epoch 5/7, Training Loss: 2.2978763580322266\n",
            "Epoch 6/7, Training Loss: 2.2906856536865234\n",
            "Epoch 7/7, Training Loss: 2.3012959957122803\n"
          ]
        },
        {
          "output_type": "stream",
          "name": "stderr",
          "text": [
            "[I 2024-11-18 22:30:35,246] Trial 6 finished with value: 0.11349999904632568 and parameters: {'num_filters': 47, 'hidden_units': 72, 'learning_rate': 0.009226767866931267, 'num_epochs': 7}. Best is trial 5 with value: 0.991100013256073.\n"
          ]
        },
        {
          "output_type": "stream",
          "name": "stdout",
          "text": [
            "Epoch 1/10, Training Loss: 2.2922589778900146\n",
            "Epoch 2/10, Training Loss: 2.288553237915039\n",
            "Epoch 3/10, Training Loss: 2.2941431999206543\n",
            "Epoch 4/10, Training Loss: 2.33413028717041\n",
            "Epoch 5/10, Training Loss: 2.308467388153076\n",
            "Epoch 6/10, Training Loss: 2.276594638824463\n",
            "Epoch 7/10, Training Loss: 2.298830032348633\n",
            "Epoch 8/10, Training Loss: 2.2934956550598145\n",
            "Epoch 9/10, Training Loss: 2.2951855659484863\n",
            "Epoch 10/10, Training Loss: 2.3142943382263184\n",
            "Epoch 1/10, Training Loss: 2.288137674331665\n",
            "Epoch 2/10, Training Loss: 2.310877561569214\n",
            "Epoch 3/10, Training Loss: 2.2963168621063232\n",
            "Epoch 4/10, Training Loss: 2.30619478225708\n",
            "Epoch 5/10, Training Loss: 2.29304575920105\n",
            "Epoch 6/10, Training Loss: 2.3015527725219727\n",
            "Epoch 7/10, Training Loss: 2.3115973472595215\n",
            "Epoch 8/10, Training Loss: 2.284379005432129\n",
            "Epoch 9/10, Training Loss: 2.3128223419189453\n",
            "Epoch 10/10, Training Loss: 2.295870304107666\n"
          ]
        },
        {
          "output_type": "stream",
          "name": "stderr",
          "text": [
            "[I 2024-11-18 22:35:38,541] Trial 7 finished with value: 0.10100000351667404 and parameters: {'num_filters': 49, 'hidden_units': 146, 'learning_rate': 0.03663597201030711, 'num_epochs': 10}. Best is trial 5 with value: 0.991100013256073.\n"
          ]
        },
        {
          "output_type": "stream",
          "name": "stdout",
          "text": [
            "Epoch 1/5, Training Loss: 2.316481351852417\n",
            "Epoch 2/5, Training Loss: 2.3191397190093994\n",
            "Epoch 3/5, Training Loss: 2.280158281326294\n",
            "Epoch 4/5, Training Loss: 2.313593864440918\n",
            "Epoch 5/5, Training Loss: 2.323589324951172\n",
            "Epoch 1/5, Training Loss: 2.3062703609466553\n",
            "Epoch 2/5, Training Loss: 2.3159430027008057\n",
            "Epoch 3/5, Training Loss: 2.309314727783203\n",
            "Epoch 4/5, Training Loss: 2.313042163848877\n",
            "Epoch 5/5, Training Loss: 2.318589210510254\n"
          ]
        },
        {
          "output_type": "stream",
          "name": "stderr",
          "text": [
            "[I 2024-11-18 22:38:10,970] Trial 8 finished with value: 0.11349999904632568 and parameters: {'num_filters': 20, 'hidden_units': 85, 'learning_rate': 0.05135004505406441, 'num_epochs': 5}. Best is trial 5 with value: 0.991100013256073.\n"
          ]
        },
        {
          "output_type": "stream",
          "name": "stdout",
          "text": [
            "Epoch 1/4, Training Loss: 0.02583395503461361\n",
            "Epoch 2/4, Training Loss: 0.0013568098656833172\n",
            "Epoch 3/4, Training Loss: 0.004666154272854328\n",
            "Epoch 4/4, Training Loss: 0.0008878296939656138\n",
            "Epoch 1/4, Training Loss: 0.10999876260757446\n",
            "Epoch 2/4, Training Loss: 0.00035322009352967143\n",
            "Epoch 3/4, Training Loss: 0.006032023578882217\n",
            "Epoch 4/4, Training Loss: 0.004771315027028322\n"
          ]
        },
        {
          "output_type": "stream",
          "name": "stderr",
          "text": [
            "[I 2024-11-18 22:40:15,001] Trial 9 finished with value: 0.9912999868392944 and parameters: {'num_filters': 38, 'hidden_units': 69, 'learning_rate': 0.0008398029251145502, 'num_epochs': 4}. Best is trial 9 with value: 0.9912999868392944.\n"
          ]
        },
        {
          "output_type": "stream",
          "name": "stdout",
          "text": [
            "Epoch 1/3, Training Loss: 0.05701697990298271\n",
            "Epoch 2/3, Training Loss: 0.03278735652565956\n",
            "Epoch 3/3, Training Loss: 0.08135986328125\n",
            "Epoch 1/3, Training Loss: 0.004296534229069948\n",
            "Epoch 2/3, Training Loss: 0.011069418862462044\n",
            "Epoch 3/3, Training Loss: 0.043507713824510574\n"
          ]
        },
        {
          "output_type": "stream",
          "name": "stderr",
          "text": [
            "[I 2024-11-18 22:41:50,446] Trial 10 finished with value: 0.9908000230789185 and parameters: {'num_filters': 32, 'hidden_units': 195, 'learning_rate': 0.000995394863587699, 'num_epochs': 3}. Best is trial 9 with value: 0.9912999868392944.\n"
          ]
        },
        {
          "output_type": "stream",
          "name": "stdout",
          "text": [
            "Epoch 1/10, Training Loss: 0.14658614993095398\n",
            "Epoch 2/10, Training Loss: 0.3432871699333191\n",
            "Epoch 3/10, Training Loss: 0.1446157693862915\n",
            "Epoch 4/10, Training Loss: 0.06489556282758713\n",
            "Epoch 5/10, Training Loss: 0.18865692615509033\n",
            "Epoch 6/10, Training Loss: 0.01051533967256546\n",
            "Epoch 7/10, Training Loss: 0.09596090763807297\n",
            "Epoch 8/10, Training Loss: 0.12685264647006989\n",
            "Epoch 9/10, Training Loss: 0.0428335964679718\n",
            "Epoch 10/10, Training Loss: 0.04413941130042076\n",
            "Epoch 1/10, Training Loss: 0.045598991215229034\n",
            "Epoch 2/10, Training Loss: 0.08003529161214828\n",
            "Epoch 3/10, Training Loss: 0.024264918640255928\n",
            "Epoch 4/10, Training Loss: 0.03693322092294693\n",
            "Epoch 5/10, Training Loss: 0.0078786201775074\n",
            "Epoch 6/10, Training Loss: 0.04320146143436432\n",
            "Epoch 7/10, Training Loss: 0.035375259816646576\n",
            "Epoch 8/10, Training Loss: 0.02971065230667591\n",
            "Epoch 9/10, Training Loss: 0.15577803552150726\n",
            "Epoch 10/10, Training Loss: 0.015477544628083706\n"
          ]
        },
        {
          "output_type": "stream",
          "name": "stderr",
          "text": [
            "[I 2024-11-18 22:47:03,136] Trial 11 finished with value: 0.9871000051498413 and parameters: {'num_filters': 59, 'hidden_units': 110, 'learning_rate': 1.722332991572285e-05, 'num_epochs': 10}. Best is trial 9 with value: 0.9912999868392944.\n"
          ]
        },
        {
          "output_type": "stream",
          "name": "stdout",
          "text": [
            "Epoch 1/5, Training Loss: 0.12329918891191483\n",
            "Epoch 2/5, Training Loss: 0.01897103525698185\n",
            "Epoch 3/5, Training Loss: 0.011425873264670372\n",
            "Epoch 4/5, Training Loss: 0.007587334606796503\n",
            "Epoch 5/5, Training Loss: 0.002836971776559949\n",
            "Epoch 1/5, Training Loss: 0.03612399846315384\n",
            "Epoch 2/5, Training Loss: 0.005491106770932674\n",
            "Epoch 3/5, Training Loss: 0.002374829724431038\n",
            "Epoch 4/5, Training Loss: 0.03141193836927414\n",
            "Epoch 5/5, Training Loss: 0.10614258050918579\n"
          ]
        },
        {
          "output_type": "stream",
          "name": "stderr",
          "text": [
            "[I 2024-11-18 22:49:39,329] Trial 12 finished with value: 0.9892999529838562 and parameters: {'num_filters': 55, 'hidden_units': 64, 'learning_rate': 0.0001663478548339731, 'num_epochs': 5}. Best is trial 9 with value: 0.9912999868392944.\n"
          ]
        },
        {
          "output_type": "stream",
          "name": "stdout",
          "text": [
            "Epoch 1/9, Training Loss: 0.007836736738681793\n",
            "Epoch 2/9, Training Loss: 0.00024419420515187085\n",
            "Epoch 3/9, Training Loss: 0.0011008381843566895\n",
            "Epoch 4/9, Training Loss: 0.0024077047128230333\n",
            "Epoch 5/9, Training Loss: 0.02608025074005127\n",
            "Epoch 6/9, Training Loss: 0.002492001047357917\n",
            "Epoch 7/9, Training Loss: 0.011450625024735928\n",
            "Epoch 8/9, Training Loss: 0.09260275214910507\n",
            "Epoch 9/9, Training Loss: 0.0012162714265286922\n",
            "Epoch 1/9, Training Loss: 0.0025943340733647346\n",
            "Epoch 2/9, Training Loss: 0.0005079292459413409\n",
            "Epoch 3/9, Training Loss: 8.320908818859607e-05\n",
            "Epoch 4/9, Training Loss: 0.00348456553183496\n",
            "Epoch 5/9, Training Loss: 0.0024023347068578005\n",
            "Epoch 6/9, Training Loss: 1.5236189483402995e-06\n",
            "Epoch 7/9, Training Loss: 0.00030216790037229657\n",
            "Epoch 8/9, Training Loss: 8.940686058167557e-08\n",
            "Epoch 9/9, Training Loss: 8.712964336154982e-05\n"
          ]
        },
        {
          "output_type": "stream",
          "name": "stderr",
          "text": [
            "[I 2024-11-18 22:54:21,779] Trial 13 finished with value: 0.9911000728607178 and parameters: {'num_filters': 39, 'hidden_units': 110, 'learning_rate': 0.0018728372847886838, 'num_epochs': 9}. Best is trial 9 with value: 0.9912999868392944.\n"
          ]
        },
        {
          "output_type": "stream",
          "name": "stdout",
          "text": [
            "Epoch 1/4, Training Loss: 0.08825257420539856\n",
            "Epoch 2/4, Training Loss: 0.005169305019080639\n",
            "Epoch 3/4, Training Loss: 0.0038342135958373547\n",
            "Epoch 4/4, Training Loss: 8.316268213093281e-05\n",
            "Epoch 1/4, Training Loss: 0.002223801566287875\n",
            "Epoch 2/4, Training Loss: 0.0009261260274797678\n",
            "Epoch 3/4, Training Loss: 9.062643584911712e-06\n",
            "Epoch 4/4, Training Loss: 0.000971612345892936\n"
          ]
        },
        {
          "output_type": "stream",
          "name": "stderr",
          "text": [
            "[I 2024-11-18 22:56:27,193] Trial 14 finished with value: 0.992400050163269 and parameters: {'num_filters': 39, 'hidden_units': 113, 'learning_rate': 0.0012188966777417747, 'num_epochs': 4}. Best is trial 14 with value: 0.992400050163269.\n"
          ]
        },
        {
          "output_type": "stream",
          "name": "stdout",
          "text": [
            "Epoch 1/4, Training Loss: 0.018937302753329277\n",
            "Epoch 2/4, Training Loss: 0.023721609264612198\n",
            "Epoch 3/4, Training Loss: 0.012027445249259472\n",
            "Epoch 4/4, Training Loss: 0.002728547900915146\n",
            "Epoch 1/4, Training Loss: 9.536812285659835e-05\n",
            "Epoch 2/4, Training Loss: 0.09469487518072128\n",
            "Epoch 3/4, Training Loss: 0.002570887329056859\n",
            "Epoch 4/4, Training Loss: 0.0004187549347989261\n"
          ]
        },
        {
          "output_type": "stream",
          "name": "stderr",
          "text": [
            "[I 2024-11-18 22:58:32,448] Trial 15 finished with value: 0.9905000329017639 and parameters: {'num_filters': 28, 'hidden_units': 116, 'learning_rate': 0.0006493011866209764, 'num_epochs': 4}. Best is trial 14 with value: 0.992400050163269.\n"
          ]
        },
        {
          "output_type": "stream",
          "name": "stdout",
          "text": [
            "Epoch 1/4, Training Loss: 0.04545484855771065\n",
            "Epoch 2/4, Training Loss: 0.02437124215066433\n",
            "Epoch 3/4, Training Loss: 0.026745103299617767\n",
            "Epoch 4/4, Training Loss: 0.037343863397836685\n",
            "Epoch 1/4, Training Loss: 0.03463099151849747\n",
            "Epoch 2/4, Training Loss: 0.0003022272721864283\n",
            "Epoch 3/4, Training Loss: 0.00014078733511269093\n",
            "Epoch 4/4, Training Loss: 1.8482242012396455e-05\n"
          ]
        },
        {
          "output_type": "stream",
          "name": "stderr",
          "text": [
            "[I 2024-11-18 23:00:34,526] Trial 16 finished with value: 0.9905999898910522 and parameters: {'num_filters': 22, 'hidden_units': 96, 'learning_rate': 0.0014784440096086808, 'num_epochs': 4}. Best is trial 14 with value: 0.992400050163269.\n"
          ]
        },
        {
          "output_type": "stream",
          "name": "stdout",
          "text": [
            "Epoch 1/6, Training Loss: 0.003253514412790537\n",
            "Epoch 2/6, Training Loss: 0.15161564946174622\n",
            "Epoch 3/6, Training Loss: 0.00825024675577879\n",
            "Epoch 4/6, Training Loss: 0.0010480111232027411\n",
            "Epoch 5/6, Training Loss: 0.003920566290616989\n",
            "Epoch 6/6, Training Loss: 0.0005055326037108898\n",
            "Epoch 1/6, Training Loss: 6.385021697496995e-05\n",
            "Epoch 2/6, Training Loss: 0.1241835430264473\n",
            "Epoch 3/6, Training Loss: 2.1494827251444804e-06\n",
            "Epoch 4/6, Training Loss: 0.0029661310836672783\n",
            "Epoch 5/6, Training Loss: 0.0001289363717660308\n",
            "Epoch 6/6, Training Loss: 3.312328044557944e-05\n"
          ]
        },
        {
          "output_type": "stream",
          "name": "stderr",
          "text": [
            "[I 2024-11-18 23:03:34,670] Trial 17 finished with value: 0.986799955368042 and parameters: {'num_filters': 38, 'hidden_units': 127, 'learning_rate': 0.004614610509604318, 'num_epochs': 6}. Best is trial 14 with value: 0.992400050163269.\n"
          ]
        },
        {
          "output_type": "stream",
          "name": "stdout",
          "text": [
            "Epoch 1/4, Training Loss: 0.020982511341571808\n",
            "Epoch 2/4, Training Loss: 0.023189879953861237\n",
            "Epoch 3/4, Training Loss: 0.0021394104696810246\n",
            "Epoch 4/4, Training Loss: 0.03473244234919548\n",
            "Epoch 1/4, Training Loss: 0.0002531969512347132\n",
            "Epoch 2/4, Training Loss: 0.004333553370088339\n",
            "Epoch 3/4, Training Loss: 0.0038480910006910563\n",
            "Epoch 4/4, Training Loss: 1.9532657461240888e-05\n"
          ]
        },
        {
          "output_type": "stream",
          "name": "stderr",
          "text": [
            "[I 2024-11-18 23:05:36,308] Trial 18 finished with value: 0.9896999597549438 and parameters: {'num_filters': 43, 'hidden_units': 166, 'learning_rate': 0.00037358342834684853, 'num_epochs': 4}. Best is trial 14 with value: 0.992400050163269.\n"
          ]
        },
        {
          "output_type": "stream",
          "name": "stdout",
          "text": [
            "Epoch 1/3, Training Loss: 0.11684589833021164\n",
            "Epoch 2/3, Training Loss: 0.11850074678659439\n",
            "Epoch 3/3, Training Loss: 0.0219070166349411\n",
            "Epoch 1/3, Training Loss: 0.041775066405534744\n",
            "Epoch 2/3, Training Loss: 0.06532319635152817\n",
            "Epoch 3/3, Training Loss: 0.03248574584722519\n"
          ]
        },
        {
          "output_type": "stream",
          "name": "stderr",
          "text": [
            "[I 2024-11-18 23:07:08,637] Trial 19 finished with value: 0.9839000105857849 and parameters: {'num_filters': 52, 'hidden_units': 178, 'learning_rate': 2.8324174934550337e-05, 'num_epochs': 3}. Best is trial 14 with value: 0.992400050163269.\n"
          ]
        },
        {
          "output_type": "stream",
          "name": "stdout",
          "text": [
            "Epoch 1/6, Training Loss: 0.17551711201667786\n",
            "Epoch 2/6, Training Loss: 0.013921746984124184\n",
            "Epoch 3/6, Training Loss: 0.29902106523513794\n",
            "Epoch 4/6, Training Loss: 0.04948011413216591\n",
            "Epoch 5/6, Training Loss: 0.048919521272182465\n",
            "Epoch 6/6, Training Loss: 6.969769310671836e-05\n",
            "Epoch 1/6, Training Loss: 0.024744771420955658\n",
            "Epoch 2/6, Training Loss: 0.007046625018119812\n",
            "Epoch 3/6, Training Loss: 7.3891511419788e-05\n",
            "Epoch 4/6, Training Loss: 0.01088288240134716\n",
            "Epoch 5/6, Training Loss: 0.0017598227132111788\n",
            "Epoch 6/6, Training Loss: 0.0006672866875305772\n"
          ]
        },
        {
          "output_type": "stream",
          "name": "stderr",
          "text": [
            "[I 2024-11-18 23:10:10,278] Trial 20 finished with value: 0.9891999959945679 and parameters: {'num_filters': 32, 'hidden_units': 99, 'learning_rate': 0.0024529892465022965, 'num_epochs': 6}. Best is trial 14 with value: 0.992400050163269.\n"
          ]
        },
        {
          "output_type": "stream",
          "name": "stdout",
          "text": [
            "Epoch 1/9, Training Loss: 0.05725504085421562\n",
            "Epoch 2/9, Training Loss: 0.3205447793006897\n",
            "Epoch 3/9, Training Loss: 0.025676775723695755\n",
            "Epoch 4/9, Training Loss: 0.11193055659532547\n",
            "Epoch 5/9, Training Loss: 0.0007344082114286721\n",
            "Epoch 6/9, Training Loss: 3.479664883343503e-05\n",
            "Epoch 7/9, Training Loss: 1.0471285349922255e-05\n",
            "Epoch 8/9, Training Loss: 0.00028232616023160517\n",
            "Epoch 9/9, Training Loss: 5.818489080411382e-05\n",
            "Epoch 1/9, Training Loss: 2.071230483124964e-06\n",
            "Epoch 2/9, Training Loss: 0.0002306020469404757\n",
            "Epoch 3/9, Training Loss: 0.017769161611795425\n",
            "Epoch 4/9, Training Loss: 0.0001456872560083866\n",
            "Epoch 5/9, Training Loss: 6.4108066908374894e-06\n",
            "Epoch 6/9, Training Loss: 0.0005145136965438724\n",
            "Epoch 7/9, Training Loss: 0.011373628862202168\n",
            "Epoch 8/9, Training Loss: 9.37156000873074e-05\n",
            "Epoch 9/9, Training Loss: 1.5646179463146836e-07\n"
          ]
        },
        {
          "output_type": "stream",
          "name": "stderr",
          "text": [
            "[I 2024-11-18 23:14:55,084] Trial 21 finished with value: 0.9914000034332275 and parameters: {'num_filters': 37, 'hidden_units': 110, 'learning_rate': 0.0011782116622698043, 'num_epochs': 9}. Best is trial 14 with value: 0.992400050163269.\n"
          ]
        },
        {
          "output_type": "stream",
          "name": "stdout",
          "text": [
            "Epoch 1/4, Training Loss: 0.014892383478581905\n",
            "Epoch 2/4, Training Loss: 0.002250062068924308\n",
            "Epoch 3/4, Training Loss: 0.06259497255086899\n",
            "Epoch 4/4, Training Loss: 0.0005512932548299432\n",
            "Epoch 1/4, Training Loss: 0.00047410588013008237\n",
            "Epoch 2/4, Training Loss: 0.00023465926642529666\n",
            "Epoch 3/4, Training Loss: 6.376040983013809e-05\n",
            "Epoch 4/4, Training Loss: 0.021842019632458687\n"
          ]
        },
        {
          "output_type": "stream",
          "name": "stderr",
          "text": [
            "[I 2024-11-18 23:17:01,709] Trial 22 finished with value: 0.9924999475479126 and parameters: {'num_filters': 35, 'hidden_units': 132, 'learning_rate': 0.0004769372571094771, 'num_epochs': 4}. Best is trial 22 with value: 0.9924999475479126.\n"
          ]
        },
        {
          "output_type": "stream",
          "name": "stdout",
          "text": [
            "Epoch 1/9, Training Loss: 0.02963809296488762\n",
            "Epoch 2/9, Training Loss: 0.01029203925281763\n",
            "Epoch 3/9, Training Loss: 0.0840686559677124\n",
            "Epoch 4/9, Training Loss: 0.11174339801073074\n",
            "Epoch 5/9, Training Loss: 0.0004977253847755492\n",
            "Epoch 6/9, Training Loss: 0.026337813585996628\n",
            "Epoch 7/9, Training Loss: 0.0009823120199143887\n",
            "Epoch 8/9, Training Loss: 0.0044478741474449635\n",
            "Epoch 9/9, Training Loss: 0.0006945168133825064\n",
            "Epoch 1/9, Training Loss: 0.0024086215998977423\n",
            "Epoch 2/9, Training Loss: 9.932845568982884e-05\n",
            "Epoch 3/9, Training Loss: 0.002700998680666089\n",
            "Epoch 4/9, Training Loss: 2.440413118165452e-05\n",
            "Epoch 5/9, Training Loss: 0.00011520850966917351\n",
            "Epoch 6/9, Training Loss: 7.992341124918312e-05\n",
            "Epoch 7/9, Training Loss: 0.0008770116255618632\n",
            "Epoch 8/9, Training Loss: 0.00014528269821312279\n",
            "Epoch 9/9, Training Loss: 9.07446701603476e-06\n"
          ]
        },
        {
          "output_type": "stream",
          "name": "stderr",
          "text": [
            "[I 2024-11-18 23:21:41,561] Trial 23 finished with value: 0.989799976348877 and parameters: {'num_filters': 16, 'hidden_units': 138, 'learning_rate': 0.00046078390640004783, 'num_epochs': 9}. Best is trial 22 with value: 0.9924999475479126.\n"
          ]
        },
        {
          "output_type": "stream",
          "name": "stdout",
          "text": [
            "Epoch 1/6, Training Loss: 0.05959423631429672\n",
            "Epoch 2/6, Training Loss: 0.1569952368736267\n",
            "Epoch 3/6, Training Loss: 0.12236984819173813\n",
            "Epoch 4/6, Training Loss: 0.024171914905309677\n",
            "Epoch 5/6, Training Loss: 0.008066707290709019\n",
            "Epoch 6/6, Training Loss: 0.011163335293531418\n",
            "Epoch 1/6, Training Loss: 0.005558899138122797\n",
            "Epoch 2/6, Training Loss: 0.09250319749116898\n",
            "Epoch 3/6, Training Loss: 0.016283923760056496\n",
            "Epoch 4/6, Training Loss: 0.023084459826350212\n",
            "Epoch 5/6, Training Loss: 0.000302093947539106\n",
            "Epoch 6/6, Training Loss: 0.01925474777817726\n"
          ]
        },
        {
          "output_type": "stream",
          "name": "stderr",
          "text": [
            "[I 2024-11-18 23:24:46,279] Trial 24 finished with value: 0.989799976348877 and parameters: {'num_filters': 33, 'hidden_units': 122, 'learning_rate': 0.00017671782694488676, 'num_epochs': 6}. Best is trial 22 with value: 0.9924999475479126.\n"
          ]
        },
        {
          "output_type": "stream",
          "name": "stdout",
          "text": [
            "Epoch 1/5, Training Loss: 0.0029547028243541718\n",
            "Epoch 2/5, Training Loss: 0.0056177363730967045\n",
            "Epoch 3/5, Training Loss: 0.00725097069516778\n",
            "Epoch 4/5, Training Loss: 0.03579989820718765\n",
            "Epoch 5/5, Training Loss: 0.005628691520541906\n",
            "Epoch 1/5, Training Loss: 0.008306979201734066\n",
            "Epoch 2/5, Training Loss: 0.00019142802921123803\n",
            "Epoch 3/5, Training Loss: 0.007906877435743809\n",
            "Epoch 4/5, Training Loss: 0.025264490395784378\n",
            "Epoch 5/5, Training Loss: 0.00018208568508271128\n"
          ]
        },
        {
          "output_type": "stream",
          "name": "stderr",
          "text": [
            "[I 2024-11-18 23:27:22,651] Trial 25 finished with value: 0.9871999621391296 and parameters: {'num_filters': 29, 'hidden_units': 164, 'learning_rate': 0.004319045286479262, 'num_epochs': 5}. Best is trial 22 with value: 0.9924999475479126.\n"
          ]
        },
        {
          "output_type": "stream",
          "name": "stdout",
          "text": [
            "Epoch 1/9, Training Loss: 2.3097920417785645\n",
            "Epoch 2/9, Training Loss: 2.299520492553711\n",
            "Epoch 3/9, Training Loss: 2.3007805347442627\n",
            "Epoch 4/9, Training Loss: 2.2994415760040283\n",
            "Epoch 5/9, Training Loss: 2.291077136993408\n",
            "Epoch 6/9, Training Loss: 2.2958803176879883\n",
            "Epoch 7/9, Training Loss: 2.3032782077789307\n",
            "Epoch 8/9, Training Loss: 2.284006357192993\n",
            "Epoch 9/9, Training Loss: 2.301205635070801\n",
            "Epoch 1/9, Training Loss: 2.322744846343994\n",
            "Epoch 2/9, Training Loss: 2.298612356185913\n",
            "Epoch 3/9, Training Loss: 2.307737350463867\n",
            "Epoch 4/9, Training Loss: 2.307558298110962\n",
            "Epoch 5/9, Training Loss: 2.2917943000793457\n",
            "Epoch 6/9, Training Loss: 2.304903745651245\n",
            "Epoch 7/9, Training Loss: 2.296339273452759\n",
            "Epoch 8/9, Training Loss: 2.303990602493286\n",
            "Epoch 9/9, Training Loss: 2.3021514415740967\n"
          ]
        },
        {
          "output_type": "stream",
          "name": "stderr",
          "text": [
            "[I 2024-11-18 23:31:57,465] Trial 26 finished with value: 0.10279999673366547 and parameters: {'num_filters': 43, 'hidden_units': 102, 'learning_rate': 0.012518024386143174, 'num_epochs': 9}. Best is trial 22 with value: 0.9924999475479126.\n"
          ]
        },
        {
          "output_type": "stream",
          "name": "stdout",
          "text": [
            "Epoch 1/7, Training Loss: 0.012877472676336765\n",
            "Epoch 2/7, Training Loss: 0.018255949020385742\n",
            "Epoch 3/7, Training Loss: 0.009327435865998268\n",
            "Epoch 4/7, Training Loss: 0.013203104957938194\n",
            "Epoch 5/7, Training Loss: 0.011800195090472698\n",
            "Epoch 6/7, Training Loss: 0.0016923926305025816\n",
            "Epoch 7/7, Training Loss: 0.00660833902657032\n",
            "Epoch 1/7, Training Loss: 0.0013539448846131563\n",
            "Epoch 2/7, Training Loss: 0.0012602945789694786\n",
            "Epoch 3/7, Training Loss: 0.005383155774325132\n",
            "Epoch 4/7, Training Loss: 0.012811918742954731\n",
            "Epoch 5/7, Training Loss: 0.005874480586498976\n",
            "Epoch 6/7, Training Loss: 0.014187952503561974\n",
            "Epoch 7/7, Training Loss: 0.00016181795217562467\n"
          ]
        },
        {
          "output_type": "stream",
          "name": "stderr",
          "text": [
            "[I 2024-11-18 23:35:41,319] Trial 27 finished with value: 0.9905999898910522 and parameters: {'num_filters': 37, 'hidden_units': 152, 'learning_rate': 0.00014322296264182368, 'num_epochs': 7}. Best is trial 22 with value: 0.9924999475479126.\n"
          ]
        },
        {
          "output_type": "stream",
          "name": "stdout",
          "text": [
            "Epoch 1/3, Training Loss: 0.3540988564491272\n",
            "Epoch 2/3, Training Loss: 0.08139147609472275\n",
            "Epoch 3/3, Training Loss: 0.011702808551490307\n",
            "Epoch 1/3, Training Loss: 0.010582144372165203\n",
            "Epoch 2/3, Training Loss: 0.1950400173664093\n",
            "Epoch 3/3, Training Loss: 0.006804462522268295\n"
          ]
        },
        {
          "output_type": "stream",
          "name": "stderr",
          "text": [
            "[I 2024-11-18 23:37:18,528] Trial 28 finished with value: 0.98580002784729 and parameters: {'num_filters': 24, 'hidden_units': 137, 'learning_rate': 6.69286752945113e-05, 'num_epochs': 3}. Best is trial 22 with value: 0.9924999475479126.\n"
          ]
        },
        {
          "output_type": "stream",
          "name": "stdout",
          "text": [
            "Epoch 1/7, Training Loss: 0.02521447464823723\n",
            "Epoch 2/7, Training Loss: 0.054352015256881714\n",
            "Epoch 3/7, Training Loss: 0.024223746731877327\n",
            "Epoch 4/7, Training Loss: 0.01093273051083088\n",
            "Epoch 5/7, Training Loss: 0.027914850041270256\n",
            "Epoch 6/7, Training Loss: 0.04821854084730148\n",
            "Epoch 7/7, Training Loss: 0.00608192291110754\n",
            "Epoch 1/7, Training Loss: 0.031489305198192596\n",
            "Epoch 2/7, Training Loss: 0.0025493220891803503\n",
            "Epoch 3/7, Training Loss: 0.006289057899266481\n",
            "Epoch 4/7, Training Loss: 0.0005550592322833836\n",
            "Epoch 5/7, Training Loss: 0.0008431980386376381\n",
            "Epoch 6/7, Training Loss: 0.000133287874632515\n",
            "Epoch 7/7, Training Loss: 6.995914736762643e-05\n"
          ]
        },
        {
          "output_type": "stream",
          "name": "stderr",
          "text": [
            "[I 2024-11-18 23:41:05,328] Trial 29 finished with value: 0.9912999868392944 and parameters: {'num_filters': 26, 'hidden_units': 182, 'learning_rate': 0.0002399697117619238, 'num_epochs': 7}. Best is trial 22 with value: 0.9924999475479126.\n"
          ]
        },
        {
          "output_type": "stream",
          "name": "stdout",
          "text": [
            "Best trial:\n",
            "  Accuracy: 0.9924999475479126\n",
            "  Params: \n",
            "    num_filters: 35\n",
            "    hidden_units: 132\n",
            "    learning_rate: 0.0004769372571094771\n",
            "    num_epochs: 4\n"
          ]
        },
        {
          "output_type": "display_data",
          "data": {
            "text/plain": [
              "<Figure size 1000x600 with 2 Axes>"
            ],
            "image/png": "[encoded data removed]"
          },
          "metadata": {}
        }
      ],
      "source": [
        "# Запуск Optuna для оптимизации гиперпараметров\n",
        "if __name__ == \"__main__\":\n",
        "\n",
        "    # Глобальные списки для хранения значений\n",
        "    num_filters_list = []\n",
        "    hidden_units_list = []\n",
        "    f1_scores = []\n",
        "\n",
        "    study = optuna.create_study(direction=\"maximize\")\n",
        "    study.optimize(objective, n_trials=30)\n",
        "\n",
        "    print(\"Best trial:\")\n",
        "    trial = study.best_trial\n",
        "\n",
        "    print(\"  F1 Score: {}\".format(trial.value))  # Получаем F1 Score\n",
        "    print(\"  Params: \")\n",
        "    for key, value in trial.params.items():\n",
        "        print(\"    {}: {}\".format(key, value))\n",
        "\n",
        "    # Построение графика разброса\n",
        "    plt.figure(figsize=(10, 6))\n",
        "    scatter = plt.scatter(num_filters_list, hidden_units_list, c=f1_scores, cmap='viridis_r', s=100, vmin=0, vmax=1)\n",
        "    plt.colorbar(scatter, label='F1 Score')\n",
        "    plt.xlabel('Number of Filters')\n",
        "    plt.ylabel('Number of Hidden Units')\n",
        "    plt.title('Scatter Plot of Hyperparameters vs F1 Score')\n",
        "    plt.grid(True)\n",
        "    plt.show()\n",
        "\n",
        "    # Глобальные списки для хранения значений\n",
        "    num_filters_list = []\n",
        "    hidden_units_list = []\n",
        "    accuracy_list = []\n",
        "\n",
        "    study = optuna.create_study(direction=\"maximize\")\n",
        "    study.optimize(objective1, n_trials=30)\n",
        "\n",
        "    print(\"Best trial:\")\n",
        "    trial = study.best_trial\n",
        "\n",
        "    print(\"  Accuracy: {}\".format(trial.value))  # Получаем accuracy\n",
        "    print(\"  Params: \")\n",
        "    for key, value in trial.params.items():\n",
        "        print(\"    {}: {}\".format(key, value))\n",
        "\n",
        "    # Построение графика точности\n",
        "    plt.figure(figsize=(10, 6))\n",
        "    scatter = plt.scatter(num_filters_list, hidden_units_list, c=accuracy_list, cmap='viridis_r', s=100, vmin=0, vmax=1)\n",
        "    plt.colorbar(scatter, label='Accuracy')\n",
        "    plt.xlabel('Number of Filters')\n",
        "    plt.ylabel('Number of Hidden Units')\n",
        "    plt.title('Scatter Plot of Hyperparameters vs Accuracy')\n",
        "    plt.grid(True)\n",
        "    plt.show()\n",
        "\n",
        ""
      ]
    },
    {
      "cell_type": "markdown",
      "source": [
        "Зависимость между количеством фильтров (ядер) и количеством скрытых слоёв не была выявлена"
      ],
      "metadata": {
        "id": "GnD08LZ-E71Y"
      }
    }
  ],
  "metadata": {
    "accelerator": "GPU",
    "colab": {
      "gpuType": "T4",
      "provenance": []
    },
    "kernelspec": {
      "display_name": "Python 3 (ipykernel)",
      "language": "python",
      "name": "python3"
    },
    "language_info": {
      "codemirror_mode": {
        "name": "ipython",
        "version": 3
      },
      "file_extension": ".py",
      "mimetype": "text/x-python",
      "name": "python",
      "nbconvert_exporter": "python",
      "pygments_lexer": "ipython3",
      "version": "3.12.4"
    }
  },
  "nbformat": 4,
  "nbformat_minor": 0
}