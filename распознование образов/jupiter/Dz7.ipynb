{
  "nbformat": 4,
  "nbformat_minor": 0,
  "metadata": {
    "colab": {
      "provenance": []
    },
    "kernelspec": {
      "name": "python3",
      "display_name": "Python 3"
    },
    "language_info": {
      "name": "python"
    }
  },
  "cells": [
    {
      "cell_type": "code",
      "source": [
        "!pip install PyPDF2"
      ],
      "metadata": {
        "colab": {
          "base_uri": "https://localhost:8080/"
        },
        "id": "UCUCLaz8F6sq",
        "outputId": "48421ad5-b733-442b-bc2c-11058340c8ac"
      },
      "execution_count": 3,
      "outputs": [
        {
          "output_type": "stream",
          "name": "stdout",
          "text": [
            "Collecting PyPDF2\n",
            "  Downloading pypdf2-3.0.1-py3-none-any.whl.metadata (6.8 kB)\n",
            "Downloading pypdf2-3.0.1-py3-none-any.whl (232 kB)\n",
            "\u001b[?25l   \u001b[90m━━━━━━━━━━━━━━━━━━━━━━━━━━━━━━━━━━━━━━━━\u001b[0m \u001b[32m0.0/232.6 kB\u001b[0m \u001b[31m?\u001b[0m eta \u001b[36m-:--:--\u001b[0m\r\u001b[2K   \u001b[90m━━━━━━━━━━━━━━━━━━━━━━━━━━━━━━━━━━━━━━━━\u001b[0m \u001b[32m232.6/232.6 kB\u001b[0m \u001b[31m12.5 MB/s\u001b[0m eta \u001b[36m0:00:00\u001b[0m\n",
            "\u001b[?25hInstalling collected packages: PyPDF2\n",
            "Successfully installed PyPDF2-3.0.1\n"
          ]
        }
      ]
    },
    {
      "cell_type": "code",
      "source": [
        "import requests\n",
        "import PyPDF2\n",
        "from io import BytesIO\n",
        "from transformers import GPT2Tokenizer, GPT2LMHeadModel\n",
        "import torch\n",
        "\n",
        "# Функция для извлечения текста из PDF\n",
        "def extract_text_from_pdf(pdf_url):\n",
        "    response = requests.get(pdf_url)\n",
        "    if response.status_code == 200:\n",
        "        text = \"\"\n",
        "        reader = PyPDF2.PdfReader(BytesIO(response.content))\n",
        "        for page in reader.pages:\n",
        "            text += page.extract_text() + \"\\n\"\n",
        "        return text\n",
        "    else:\n",
        "        raise Exception(f\"Не удалось загрузить PDF файл. Статус код: {response.status_code}\")\n",
        "\n",
        "# URL к вашему PDF-файлу\n",
        "pdf_url = 'https://mfk1.kg/wp-content/uploads/2022/07/Lev-Tolstoj-Vojna-i-mir.pdf'  # Замените на реальный URL\n",
        "\n",
        "# Извлечение текста из PDF\n",
        "try:\n",
        "    pdf_text = extract_text_from_pdf(pdf_url)\n",
        "except Exception as e:\n",
        "    print(e)\n",
        "    pdf_text = \"\"\n",
        "\n",
        "# Инициализация токенизатора и модели\n",
        "tokenizer = GPT2Tokenizer.from_pretrained('gpt2')\n",
        "model = GPT2LMHeadModel.from_pretrained('gpt2')\n",
        "\n",
        "# Фраза для генерации продолжения\n",
        "input_phrase = \"На дороге стоял дуб\"\n",
        "\n",
        "# Токенизация входной фразы\n",
        "input_ids = tokenizer.encode(input_phrase, return_tensors='pt')\n",
        "\n",
        "# Создание маски внимания\n",
        "attention_mask = torch.ones(input_ids.shape, dtype=torch.long)\n",
        "\n",
        "# Генерация продолжения текста\n",
        "max_length = 50  # Максимальная длина сгенерированного текста\n",
        "output = model.generate(input_ids, attention_mask=attention_mask, max_length=len(input_ids[0]) + max_length, num_return_sequences=1, pad_token_id=tokenizer.eos_token_id)\n",
        "\n",
        "# Декодирование сгенерированного текста\n",
        "generated_text = tokenizer.decode(output[0], skip_special_tokens=True)\n",
        "\n",
        "# Печать сгенерированного текста\n",
        "print(\"Сгенерированный текст:\")\n",
        "print(generated_text)"
      ],
      "metadata": {
        "colab": {
          "base_uri": "https://localhost:8080/"
        },
        "id": "BtN3G2OoA7eM",
        "outputId": "142806b6-fead-46d4-c062-f3217839e4d0"
      },
      "execution_count": 5,
      "outputs": [
        {
          "output_type": "stream",
          "name": "stdout",
          "text": [
            "Сгенерированный текст:\n",
            "На дороге стоял дубления в просторование в просторование в просторова\n"
          ]
        }
      ]
    }
  ]
}